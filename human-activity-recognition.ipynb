{
 "cells": [
  {
   "cell_type": "code",
   "execution_count": 1,
   "metadata": {
    "_cell_guid": "79c7e3d0-c299-4dcb-8224-4455121ee9b0",
    "_uuid": "d629ff2d2480ee46fbb7e2d37f6b5fab8052498a",
    "execution": {
     "iopub.execute_input": "2020-09-18T21:01:24.763672Z",
     "iopub.status.busy": "2020-09-18T21:01:24.762313Z",
     "iopub.status.idle": "2020-09-18T21:01:25.944740Z",
     "shell.execute_reply": "2020-09-18T21:01:25.943834Z"
    },
    "papermill": {
     "duration": 1.222331,
     "end_time": "2020-09-18T21:01:25.944882",
     "exception": false,
     "start_time": "2020-09-18T21:01:24.722551",
     "status": "completed"
    },
    "tags": []
   },
   "outputs": [],
   "source": [
    "import numpy as np\n",
    "import pandas as pd\n",
    "import matplotlib.pyplot as plt\n",
    "import seaborn as sns"
   ]
  },
  {
   "cell_type": "code",
   "execution_count": 2,
   "metadata": {
    "execution": {
     "iopub.execute_input": "2020-09-18T21:01:26.004061Z",
     "iopub.status.busy": "2020-09-18T21:01:26.003247Z",
     "iopub.status.idle": "2020-09-18T21:01:27.661925Z",
     "shell.execute_reply": "2020-09-18T21:01:27.662972Z"
    },
    "papermill": {
     "duration": 1.694826,
     "end_time": "2020-09-18T21:01:27.663315",
     "exception": false,
     "start_time": "2020-09-18T21:01:25.968489",
     "status": "completed"
    },
    "tags": []
   },
   "outputs": [],
   "source": [
    "training_data=pd.read_csv('../input/human-activity-recognition-with-smartphones/train.csv')\n",
    "test_data=pd.read_csv('../input/human-activity-recognition-with-smartphones/test.csv')"
   ]
  },
  {
   "cell_type": "code",
   "execution_count": 3,
   "metadata": {
    "execution": {
     "iopub.execute_input": "2020-09-18T21:01:27.725401Z",
     "iopub.status.busy": "2020-09-18T21:01:27.724481Z",
     "iopub.status.idle": "2020-09-18T21:01:27.774682Z",
     "shell.execute_reply": "2020-09-18T21:01:27.773668Z"
    },
    "papermill": {
     "duration": 0.083086,
     "end_time": "2020-09-18T21:01:27.774858",
     "exception": false,
     "start_time": "2020-09-18T21:01:27.691772",
     "status": "completed"
    },
    "tags": []
   },
   "outputs": [
    {
     "name": "stdout",
     "output_type": "stream",
     "text": [
      "<class 'pandas.core.frame.DataFrame'>\n",
      "RangeIndex: 7352 entries, 0 to 7351\n",
      "Columns: 563 entries, tBodyAcc-mean()-X to Activity\n",
      "dtypes: float64(561), int64(1), object(1)\n",
      "memory usage: 31.6+ MB\n"
     ]
    }
   ],
   "source": [
    "training_data.info()"
   ]
  },
  {
   "cell_type": "code",
   "execution_count": 4,
   "metadata": {
    "execution": {
     "iopub.execute_input": "2020-09-18T21:01:27.831862Z",
     "iopub.status.busy": "2020-09-18T21:01:27.831071Z",
     "iopub.status.idle": "2020-09-18T21:01:29.274026Z",
     "shell.execute_reply": "2020-09-18T21:01:29.273412Z"
    },
    "papermill": {
     "duration": 1.473451,
     "end_time": "2020-09-18T21:01:29.274145",
     "exception": false,
     "start_time": "2020-09-18T21:01:27.800694",
     "status": "completed"
    },
    "tags": []
   },
   "outputs": [
    {
     "data": {
      "text/html": [
       "<div>\n",
       "<style scoped>\n",
       "    .dataframe tbody tr th:only-of-type {\n",
       "        vertical-align: middle;\n",
       "    }\n",
       "\n",
       "    .dataframe tbody tr th {\n",
       "        vertical-align: top;\n",
       "    }\n",
       "\n",
       "    .dataframe thead th {\n",
       "        text-align: right;\n",
       "    }\n",
       "</style>\n",
       "<table border=\"1\" class=\"dataframe\">\n",
       "  <thead>\n",
       "    <tr style=\"text-align: right;\">\n",
       "      <th></th>\n",
       "      <th>tBodyAcc-mean()-X</th>\n",
       "      <th>tBodyAcc-mean()-Y</th>\n",
       "      <th>tBodyAcc-mean()-Z</th>\n",
       "      <th>tBodyAcc-std()-X</th>\n",
       "      <th>tBodyAcc-std()-Y</th>\n",
       "      <th>tBodyAcc-std()-Z</th>\n",
       "      <th>tBodyAcc-mad()-X</th>\n",
       "      <th>tBodyAcc-mad()-Y</th>\n",
       "      <th>tBodyAcc-mad()-Z</th>\n",
       "      <th>tBodyAcc-max()-X</th>\n",
       "      <th>...</th>\n",
       "      <th>fBodyBodyGyroJerkMag-skewness()</th>\n",
       "      <th>fBodyBodyGyroJerkMag-kurtosis()</th>\n",
       "      <th>angle(tBodyAccMean,gravity)</th>\n",
       "      <th>angle(tBodyAccJerkMean),gravityMean)</th>\n",
       "      <th>angle(tBodyGyroMean,gravityMean)</th>\n",
       "      <th>angle(tBodyGyroJerkMean,gravityMean)</th>\n",
       "      <th>angle(X,gravityMean)</th>\n",
       "      <th>angle(Y,gravityMean)</th>\n",
       "      <th>angle(Z,gravityMean)</th>\n",
       "      <th>subject</th>\n",
       "    </tr>\n",
       "  </thead>\n",
       "  <tbody>\n",
       "    <tr>\n",
       "      <th>count</th>\n",
       "      <td>7352.000000</td>\n",
       "      <td>7352.000000</td>\n",
       "      <td>7352.000000</td>\n",
       "      <td>7352.000000</td>\n",
       "      <td>7352.000000</td>\n",
       "      <td>7352.000000</td>\n",
       "      <td>7352.000000</td>\n",
       "      <td>7352.000000</td>\n",
       "      <td>7352.000000</td>\n",
       "      <td>7352.000000</td>\n",
       "      <td>...</td>\n",
       "      <td>7352.000000</td>\n",
       "      <td>7352.000000</td>\n",
       "      <td>7352.000000</td>\n",
       "      <td>7352.000000</td>\n",
       "      <td>7352.000000</td>\n",
       "      <td>7352.000000</td>\n",
       "      <td>7352.000000</td>\n",
       "      <td>7352.000000</td>\n",
       "      <td>7352.000000</td>\n",
       "      <td>7352.000000</td>\n",
       "    </tr>\n",
       "    <tr>\n",
       "      <th>mean</th>\n",
       "      <td>0.274488</td>\n",
       "      <td>-0.017695</td>\n",
       "      <td>-0.109141</td>\n",
       "      <td>-0.605438</td>\n",
       "      <td>-0.510938</td>\n",
       "      <td>-0.604754</td>\n",
       "      <td>-0.630512</td>\n",
       "      <td>-0.526907</td>\n",
       "      <td>-0.606150</td>\n",
       "      <td>-0.468604</td>\n",
       "      <td>...</td>\n",
       "      <td>-0.307009</td>\n",
       "      <td>-0.625294</td>\n",
       "      <td>0.008684</td>\n",
       "      <td>0.002186</td>\n",
       "      <td>0.008726</td>\n",
       "      <td>-0.005981</td>\n",
       "      <td>-0.489547</td>\n",
       "      <td>0.058593</td>\n",
       "      <td>-0.056515</td>\n",
       "      <td>17.413085</td>\n",
       "    </tr>\n",
       "    <tr>\n",
       "      <th>std</th>\n",
       "      <td>0.070261</td>\n",
       "      <td>0.040811</td>\n",
       "      <td>0.056635</td>\n",
       "      <td>0.448734</td>\n",
       "      <td>0.502645</td>\n",
       "      <td>0.418687</td>\n",
       "      <td>0.424073</td>\n",
       "      <td>0.485942</td>\n",
       "      <td>0.414122</td>\n",
       "      <td>0.544547</td>\n",
       "      <td>...</td>\n",
       "      <td>0.321011</td>\n",
       "      <td>0.307584</td>\n",
       "      <td>0.336787</td>\n",
       "      <td>0.448306</td>\n",
       "      <td>0.608303</td>\n",
       "      <td>0.477975</td>\n",
       "      <td>0.511807</td>\n",
       "      <td>0.297480</td>\n",
       "      <td>0.279122</td>\n",
       "      <td>8.975143</td>\n",
       "    </tr>\n",
       "    <tr>\n",
       "      <th>min</th>\n",
       "      <td>-1.000000</td>\n",
       "      <td>-1.000000</td>\n",
       "      <td>-1.000000</td>\n",
       "      <td>-1.000000</td>\n",
       "      <td>-0.999873</td>\n",
       "      <td>-1.000000</td>\n",
       "      <td>-1.000000</td>\n",
       "      <td>-1.000000</td>\n",
       "      <td>-1.000000</td>\n",
       "      <td>-1.000000</td>\n",
       "      <td>...</td>\n",
       "      <td>-0.995357</td>\n",
       "      <td>-0.999765</td>\n",
       "      <td>-0.976580</td>\n",
       "      <td>-1.000000</td>\n",
       "      <td>-1.000000</td>\n",
       "      <td>-1.000000</td>\n",
       "      <td>-1.000000</td>\n",
       "      <td>-1.000000</td>\n",
       "      <td>-1.000000</td>\n",
       "      <td>1.000000</td>\n",
       "    </tr>\n",
       "    <tr>\n",
       "      <th>25%</th>\n",
       "      <td>0.262975</td>\n",
       "      <td>-0.024863</td>\n",
       "      <td>-0.120993</td>\n",
       "      <td>-0.992754</td>\n",
       "      <td>-0.978129</td>\n",
       "      <td>-0.980233</td>\n",
       "      <td>-0.993591</td>\n",
       "      <td>-0.978162</td>\n",
       "      <td>-0.980251</td>\n",
       "      <td>-0.936219</td>\n",
       "      <td>...</td>\n",
       "      <td>-0.542602</td>\n",
       "      <td>-0.845573</td>\n",
       "      <td>-0.121527</td>\n",
       "      <td>-0.289549</td>\n",
       "      <td>-0.482273</td>\n",
       "      <td>-0.376341</td>\n",
       "      <td>-0.812065</td>\n",
       "      <td>-0.017885</td>\n",
       "      <td>-0.143414</td>\n",
       "      <td>8.000000</td>\n",
       "    </tr>\n",
       "    <tr>\n",
       "      <th>50%</th>\n",
       "      <td>0.277193</td>\n",
       "      <td>-0.017219</td>\n",
       "      <td>-0.108676</td>\n",
       "      <td>-0.946196</td>\n",
       "      <td>-0.851897</td>\n",
       "      <td>-0.859365</td>\n",
       "      <td>-0.950709</td>\n",
       "      <td>-0.857328</td>\n",
       "      <td>-0.857143</td>\n",
       "      <td>-0.881637</td>\n",
       "      <td>...</td>\n",
       "      <td>-0.343685</td>\n",
       "      <td>-0.711692</td>\n",
       "      <td>0.009509</td>\n",
       "      <td>0.008943</td>\n",
       "      <td>0.008735</td>\n",
       "      <td>-0.000368</td>\n",
       "      <td>-0.709417</td>\n",
       "      <td>0.182071</td>\n",
       "      <td>0.003181</td>\n",
       "      <td>19.000000</td>\n",
       "    </tr>\n",
       "    <tr>\n",
       "      <th>75%</th>\n",
       "      <td>0.288461</td>\n",
       "      <td>-0.010783</td>\n",
       "      <td>-0.097794</td>\n",
       "      <td>-0.242813</td>\n",
       "      <td>-0.034231</td>\n",
       "      <td>-0.262415</td>\n",
       "      <td>-0.292680</td>\n",
       "      <td>-0.066701</td>\n",
       "      <td>-0.265671</td>\n",
       "      <td>-0.017129</td>\n",
       "      <td>...</td>\n",
       "      <td>-0.126979</td>\n",
       "      <td>-0.503878</td>\n",
       "      <td>0.150865</td>\n",
       "      <td>0.292861</td>\n",
       "      <td>0.506187</td>\n",
       "      <td>0.359368</td>\n",
       "      <td>-0.509079</td>\n",
       "      <td>0.248353</td>\n",
       "      <td>0.107659</td>\n",
       "      <td>26.000000</td>\n",
       "    </tr>\n",
       "    <tr>\n",
       "      <th>max</th>\n",
       "      <td>1.000000</td>\n",
       "      <td>1.000000</td>\n",
       "      <td>1.000000</td>\n",
       "      <td>1.000000</td>\n",
       "      <td>0.916238</td>\n",
       "      <td>1.000000</td>\n",
       "      <td>1.000000</td>\n",
       "      <td>0.967664</td>\n",
       "      <td>1.000000</td>\n",
       "      <td>1.000000</td>\n",
       "      <td>...</td>\n",
       "      <td>0.989538</td>\n",
       "      <td>0.956845</td>\n",
       "      <td>1.000000</td>\n",
       "      <td>1.000000</td>\n",
       "      <td>0.998702</td>\n",
       "      <td>0.996078</td>\n",
       "      <td>1.000000</td>\n",
       "      <td>0.478157</td>\n",
       "      <td>1.000000</td>\n",
       "      <td>30.000000</td>\n",
       "    </tr>\n",
       "  </tbody>\n",
       "</table>\n",
       "<p>8 rows × 562 columns</p>\n",
       "</div>"
      ],
      "text/plain": [
       "       tBodyAcc-mean()-X  tBodyAcc-mean()-Y  tBodyAcc-mean()-Z  \\\n",
       "count        7352.000000        7352.000000        7352.000000   \n",
       "mean            0.274488          -0.017695          -0.109141   \n",
       "std             0.070261           0.040811           0.056635   \n",
       "min            -1.000000          -1.000000          -1.000000   \n",
       "25%             0.262975          -0.024863          -0.120993   \n",
       "50%             0.277193          -0.017219          -0.108676   \n",
       "75%             0.288461          -0.010783          -0.097794   \n",
       "max             1.000000           1.000000           1.000000   \n",
       "\n",
       "       tBodyAcc-std()-X  tBodyAcc-std()-Y  tBodyAcc-std()-Z  tBodyAcc-mad()-X  \\\n",
       "count       7352.000000       7352.000000       7352.000000       7352.000000   \n",
       "mean          -0.605438         -0.510938         -0.604754         -0.630512   \n",
       "std            0.448734          0.502645          0.418687          0.424073   \n",
       "min           -1.000000         -0.999873         -1.000000         -1.000000   \n",
       "25%           -0.992754         -0.978129         -0.980233         -0.993591   \n",
       "50%           -0.946196         -0.851897         -0.859365         -0.950709   \n",
       "75%           -0.242813         -0.034231         -0.262415         -0.292680   \n",
       "max            1.000000          0.916238          1.000000          1.000000   \n",
       "\n",
       "       tBodyAcc-mad()-Y  tBodyAcc-mad()-Z  tBodyAcc-max()-X  ...  \\\n",
       "count       7352.000000       7352.000000       7352.000000  ...   \n",
       "mean          -0.526907         -0.606150         -0.468604  ...   \n",
       "std            0.485942          0.414122          0.544547  ...   \n",
       "min           -1.000000         -1.000000         -1.000000  ...   \n",
       "25%           -0.978162         -0.980251         -0.936219  ...   \n",
       "50%           -0.857328         -0.857143         -0.881637  ...   \n",
       "75%           -0.066701         -0.265671         -0.017129  ...   \n",
       "max            0.967664          1.000000          1.000000  ...   \n",
       "\n",
       "       fBodyBodyGyroJerkMag-skewness()  fBodyBodyGyroJerkMag-kurtosis()  \\\n",
       "count                      7352.000000                      7352.000000   \n",
       "mean                         -0.307009                        -0.625294   \n",
       "std                           0.321011                         0.307584   \n",
       "min                          -0.995357                        -0.999765   \n",
       "25%                          -0.542602                        -0.845573   \n",
       "50%                          -0.343685                        -0.711692   \n",
       "75%                          -0.126979                        -0.503878   \n",
       "max                           0.989538                         0.956845   \n",
       "\n",
       "       angle(tBodyAccMean,gravity)  angle(tBodyAccJerkMean),gravityMean)  \\\n",
       "count                  7352.000000                           7352.000000   \n",
       "mean                      0.008684                              0.002186   \n",
       "std                       0.336787                              0.448306   \n",
       "min                      -0.976580                             -1.000000   \n",
       "25%                      -0.121527                             -0.289549   \n",
       "50%                       0.009509                              0.008943   \n",
       "75%                       0.150865                              0.292861   \n",
       "max                       1.000000                              1.000000   \n",
       "\n",
       "       angle(tBodyGyroMean,gravityMean)  angle(tBodyGyroJerkMean,gravityMean)  \\\n",
       "count                       7352.000000                           7352.000000   \n",
       "mean                           0.008726                             -0.005981   \n",
       "std                            0.608303                              0.477975   \n",
       "min                           -1.000000                             -1.000000   \n",
       "25%                           -0.482273                             -0.376341   \n",
       "50%                            0.008735                             -0.000368   \n",
       "75%                            0.506187                              0.359368   \n",
       "max                            0.998702                              0.996078   \n",
       "\n",
       "       angle(X,gravityMean)  angle(Y,gravityMean)  angle(Z,gravityMean)  \\\n",
       "count           7352.000000           7352.000000           7352.000000   \n",
       "mean              -0.489547              0.058593             -0.056515   \n",
       "std                0.511807              0.297480              0.279122   \n",
       "min               -1.000000             -1.000000             -1.000000   \n",
       "25%               -0.812065             -0.017885             -0.143414   \n",
       "50%               -0.709417              0.182071              0.003181   \n",
       "75%               -0.509079              0.248353              0.107659   \n",
       "max                1.000000              0.478157              1.000000   \n",
       "\n",
       "           subject  \n",
       "count  7352.000000  \n",
       "mean     17.413085  \n",
       "std       8.975143  \n",
       "min       1.000000  \n",
       "25%       8.000000  \n",
       "50%      19.000000  \n",
       "75%      26.000000  \n",
       "max      30.000000  \n",
       "\n",
       "[8 rows x 562 columns]"
      ]
     },
     "execution_count": 4,
     "metadata": {},
     "output_type": "execute_result"
    }
   ],
   "source": [
    "training_data.describe()"
   ]
  },
  {
   "cell_type": "code",
   "execution_count": 5,
   "metadata": {
    "execution": {
     "iopub.execute_input": "2020-09-18T21:01:29.346816Z",
     "iopub.status.busy": "2020-09-18T21:01:29.345919Z",
     "iopub.status.idle": "2020-09-18T21:01:29.364035Z",
     "shell.execute_reply": "2020-09-18T21:01:29.364783Z"
    },
    "papermill": {
     "duration": 0.066277,
     "end_time": "2020-09-18T21:01:29.364952",
     "exception": false,
     "start_time": "2020-09-18T21:01:29.298675",
     "status": "completed"
    },
    "tags": []
   },
   "outputs": [
    {
     "name": "stdout",
     "output_type": "stream",
     "text": [
      "<class 'pandas.core.frame.DataFrame'>\n",
      "RangeIndex: 2947 entries, 0 to 2946\n",
      "Columns: 563 entries, tBodyAcc-mean()-X to Activity\n",
      "dtypes: float64(561), int64(1), object(1)\n",
      "memory usage: 12.7+ MB\n"
     ]
    }
   ],
   "source": [
    "test_data.info()"
   ]
  },
  {
   "cell_type": "code",
   "execution_count": 6,
   "metadata": {
    "execution": {
     "iopub.execute_input": "2020-09-18T21:01:29.430811Z",
     "iopub.status.busy": "2020-09-18T21:01:29.423780Z",
     "iopub.status.idle": "2020-09-18T21:01:30.925276Z",
     "shell.execute_reply": "2020-09-18T21:01:30.924202Z"
    },
    "papermill": {
     "duration": 1.53378,
     "end_time": "2020-09-18T21:01:30.925454",
     "exception": false,
     "start_time": "2020-09-18T21:01:29.391674",
     "status": "completed"
    },
    "tags": []
   },
   "outputs": [
    {
     "data": {
      "text/html": [
       "<div>\n",
       "<style scoped>\n",
       "    .dataframe tbody tr th:only-of-type {\n",
       "        vertical-align: middle;\n",
       "    }\n",
       "\n",
       "    .dataframe tbody tr th {\n",
       "        vertical-align: top;\n",
       "    }\n",
       "\n",
       "    .dataframe thead th {\n",
       "        text-align: right;\n",
       "    }\n",
       "</style>\n",
       "<table border=\"1\" class=\"dataframe\">\n",
       "  <thead>\n",
       "    <tr style=\"text-align: right;\">\n",
       "      <th></th>\n",
       "      <th>tBodyAcc-mean()-X</th>\n",
       "      <th>tBodyAcc-mean()-Y</th>\n",
       "      <th>tBodyAcc-mean()-Z</th>\n",
       "      <th>tBodyAcc-std()-X</th>\n",
       "      <th>tBodyAcc-std()-Y</th>\n",
       "      <th>tBodyAcc-std()-Z</th>\n",
       "      <th>tBodyAcc-mad()-X</th>\n",
       "      <th>tBodyAcc-mad()-Y</th>\n",
       "      <th>tBodyAcc-mad()-Z</th>\n",
       "      <th>tBodyAcc-max()-X</th>\n",
       "      <th>...</th>\n",
       "      <th>fBodyBodyGyroJerkMag-skewness()</th>\n",
       "      <th>fBodyBodyGyroJerkMag-kurtosis()</th>\n",
       "      <th>angle(tBodyAccMean,gravity)</th>\n",
       "      <th>angle(tBodyAccJerkMean),gravityMean)</th>\n",
       "      <th>angle(tBodyGyroMean,gravityMean)</th>\n",
       "      <th>angle(tBodyGyroJerkMean,gravityMean)</th>\n",
       "      <th>angle(X,gravityMean)</th>\n",
       "      <th>angle(Y,gravityMean)</th>\n",
       "      <th>angle(Z,gravityMean)</th>\n",
       "      <th>subject</th>\n",
       "    </tr>\n",
       "  </thead>\n",
       "  <tbody>\n",
       "    <tr>\n",
       "      <th>count</th>\n",
       "      <td>2947.000000</td>\n",
       "      <td>2947.000000</td>\n",
       "      <td>2947.000000</td>\n",
       "      <td>2947.000000</td>\n",
       "      <td>2947.000000</td>\n",
       "      <td>2947.000000</td>\n",
       "      <td>2947.000000</td>\n",
       "      <td>2947.000000</td>\n",
       "      <td>2947.000000</td>\n",
       "      <td>2947.000000</td>\n",
       "      <td>...</td>\n",
       "      <td>2947.000000</td>\n",
       "      <td>2947.000000</td>\n",
       "      <td>2947.000000</td>\n",
       "      <td>2947.000000</td>\n",
       "      <td>2947.000000</td>\n",
       "      <td>2947.000000</td>\n",
       "      <td>2947.000000</td>\n",
       "      <td>2947.000000</td>\n",
       "      <td>2947.000000</td>\n",
       "      <td>2947.000000</td>\n",
       "    </tr>\n",
       "    <tr>\n",
       "      <th>mean</th>\n",
       "      <td>0.273996</td>\n",
       "      <td>-0.017863</td>\n",
       "      <td>-0.108386</td>\n",
       "      <td>-0.613635</td>\n",
       "      <td>-0.508330</td>\n",
       "      <td>-0.633797</td>\n",
       "      <td>-0.641278</td>\n",
       "      <td>-0.522676</td>\n",
       "      <td>-0.637038</td>\n",
       "      <td>-0.462063</td>\n",
       "      <td>...</td>\n",
       "      <td>-0.277593</td>\n",
       "      <td>-0.598756</td>\n",
       "      <td>0.005264</td>\n",
       "      <td>0.003799</td>\n",
       "      <td>0.040029</td>\n",
       "      <td>-0.017298</td>\n",
       "      <td>-0.513923</td>\n",
       "      <td>0.074886</td>\n",
       "      <td>-0.048720</td>\n",
       "      <td>12.986427</td>\n",
       "    </tr>\n",
       "    <tr>\n",
       "      <th>std</th>\n",
       "      <td>0.060570</td>\n",
       "      <td>0.025745</td>\n",
       "      <td>0.042747</td>\n",
       "      <td>0.412597</td>\n",
       "      <td>0.494269</td>\n",
       "      <td>0.362699</td>\n",
       "      <td>0.385199</td>\n",
       "      <td>0.479899</td>\n",
       "      <td>0.357753</td>\n",
       "      <td>0.523916</td>\n",
       "      <td>...</td>\n",
       "      <td>0.317245</td>\n",
       "      <td>0.311042</td>\n",
       "      <td>0.336147</td>\n",
       "      <td>0.445077</td>\n",
       "      <td>0.634989</td>\n",
       "      <td>0.501311</td>\n",
       "      <td>0.509205</td>\n",
       "      <td>0.324300</td>\n",
       "      <td>0.241467</td>\n",
       "      <td>6.950984</td>\n",
       "    </tr>\n",
       "    <tr>\n",
       "      <th>min</th>\n",
       "      <td>-0.592004</td>\n",
       "      <td>-0.362884</td>\n",
       "      <td>-0.576184</td>\n",
       "      <td>-0.999606</td>\n",
       "      <td>-1.000000</td>\n",
       "      <td>-0.998955</td>\n",
       "      <td>-0.999417</td>\n",
       "      <td>-0.999914</td>\n",
       "      <td>-0.998899</td>\n",
       "      <td>-0.952357</td>\n",
       "      <td>...</td>\n",
       "      <td>-1.000000</td>\n",
       "      <td>-1.000000</td>\n",
       "      <td>-1.000000</td>\n",
       "      <td>-0.993402</td>\n",
       "      <td>-0.998898</td>\n",
       "      <td>-0.991096</td>\n",
       "      <td>-0.984195</td>\n",
       "      <td>-0.913704</td>\n",
       "      <td>-0.949228</td>\n",
       "      <td>2.000000</td>\n",
       "    </tr>\n",
       "    <tr>\n",
       "      <th>25%</th>\n",
       "      <td>0.262075</td>\n",
       "      <td>-0.024961</td>\n",
       "      <td>-0.121162</td>\n",
       "      <td>-0.990914</td>\n",
       "      <td>-0.973664</td>\n",
       "      <td>-0.976122</td>\n",
       "      <td>-0.992333</td>\n",
       "      <td>-0.974131</td>\n",
       "      <td>-0.975352</td>\n",
       "      <td>-0.934447</td>\n",
       "      <td>...</td>\n",
       "      <td>-0.517494</td>\n",
       "      <td>-0.829593</td>\n",
       "      <td>-0.130541</td>\n",
       "      <td>-0.282600</td>\n",
       "      <td>-0.518924</td>\n",
       "      <td>-0.428375</td>\n",
       "      <td>-0.829722</td>\n",
       "      <td>0.022140</td>\n",
       "      <td>-0.098485</td>\n",
       "      <td>9.000000</td>\n",
       "    </tr>\n",
       "    <tr>\n",
       "      <th>50%</th>\n",
       "      <td>0.277113</td>\n",
       "      <td>-0.016967</td>\n",
       "      <td>-0.108458</td>\n",
       "      <td>-0.931214</td>\n",
       "      <td>-0.790972</td>\n",
       "      <td>-0.827534</td>\n",
       "      <td>-0.937664</td>\n",
       "      <td>-0.799907</td>\n",
       "      <td>-0.817005</td>\n",
       "      <td>-0.852659</td>\n",
       "      <td>...</td>\n",
       "      <td>-0.311023</td>\n",
       "      <td>-0.683672</td>\n",
       "      <td>0.005188</td>\n",
       "      <td>0.006767</td>\n",
       "      <td>0.047113</td>\n",
       "      <td>-0.026726</td>\n",
       "      <td>-0.729648</td>\n",
       "      <td>0.181563</td>\n",
       "      <td>-0.010671</td>\n",
       "      <td>12.000000</td>\n",
       "    </tr>\n",
       "    <tr>\n",
       "      <th>75%</th>\n",
       "      <td>0.288097</td>\n",
       "      <td>-0.010143</td>\n",
       "      <td>-0.097123</td>\n",
       "      <td>-0.267395</td>\n",
       "      <td>-0.105919</td>\n",
       "      <td>-0.311432</td>\n",
       "      <td>-0.321719</td>\n",
       "      <td>-0.133488</td>\n",
       "      <td>-0.322771</td>\n",
       "      <td>-0.009965</td>\n",
       "      <td>...</td>\n",
       "      <td>-0.083559</td>\n",
       "      <td>-0.458332</td>\n",
       "      <td>0.146200</td>\n",
       "      <td>0.288113</td>\n",
       "      <td>0.622151</td>\n",
       "      <td>0.394387</td>\n",
       "      <td>-0.545939</td>\n",
       "      <td>0.260252</td>\n",
       "      <td>0.092373</td>\n",
       "      <td>18.000000</td>\n",
       "    </tr>\n",
       "    <tr>\n",
       "      <th>max</th>\n",
       "      <td>0.671887</td>\n",
       "      <td>0.246106</td>\n",
       "      <td>0.494114</td>\n",
       "      <td>0.465299</td>\n",
       "      <td>1.000000</td>\n",
       "      <td>0.489703</td>\n",
       "      <td>0.439657</td>\n",
       "      <td>1.000000</td>\n",
       "      <td>0.427958</td>\n",
       "      <td>0.786436</td>\n",
       "      <td>...</td>\n",
       "      <td>1.000000</td>\n",
       "      <td>1.000000</td>\n",
       "      <td>0.998898</td>\n",
       "      <td>0.986347</td>\n",
       "      <td>1.000000</td>\n",
       "      <td>1.000000</td>\n",
       "      <td>0.833180</td>\n",
       "      <td>1.000000</td>\n",
       "      <td>0.973113</td>\n",
       "      <td>24.000000</td>\n",
       "    </tr>\n",
       "  </tbody>\n",
       "</table>\n",
       "<p>8 rows × 562 columns</p>\n",
       "</div>"
      ],
      "text/plain": [
       "       tBodyAcc-mean()-X  tBodyAcc-mean()-Y  tBodyAcc-mean()-Z  \\\n",
       "count        2947.000000        2947.000000        2947.000000   \n",
       "mean            0.273996          -0.017863          -0.108386   \n",
       "std             0.060570           0.025745           0.042747   \n",
       "min            -0.592004          -0.362884          -0.576184   \n",
       "25%             0.262075          -0.024961          -0.121162   \n",
       "50%             0.277113          -0.016967          -0.108458   \n",
       "75%             0.288097          -0.010143          -0.097123   \n",
       "max             0.671887           0.246106           0.494114   \n",
       "\n",
       "       tBodyAcc-std()-X  tBodyAcc-std()-Y  tBodyAcc-std()-Z  tBodyAcc-mad()-X  \\\n",
       "count       2947.000000       2947.000000       2947.000000       2947.000000   \n",
       "mean          -0.613635         -0.508330         -0.633797         -0.641278   \n",
       "std            0.412597          0.494269          0.362699          0.385199   \n",
       "min           -0.999606         -1.000000         -0.998955         -0.999417   \n",
       "25%           -0.990914         -0.973664         -0.976122         -0.992333   \n",
       "50%           -0.931214         -0.790972         -0.827534         -0.937664   \n",
       "75%           -0.267395         -0.105919         -0.311432         -0.321719   \n",
       "max            0.465299          1.000000          0.489703          0.439657   \n",
       "\n",
       "       tBodyAcc-mad()-Y  tBodyAcc-mad()-Z  tBodyAcc-max()-X  ...  \\\n",
       "count       2947.000000       2947.000000       2947.000000  ...   \n",
       "mean          -0.522676         -0.637038         -0.462063  ...   \n",
       "std            0.479899          0.357753          0.523916  ...   \n",
       "min           -0.999914         -0.998899         -0.952357  ...   \n",
       "25%           -0.974131         -0.975352         -0.934447  ...   \n",
       "50%           -0.799907         -0.817005         -0.852659  ...   \n",
       "75%           -0.133488         -0.322771         -0.009965  ...   \n",
       "max            1.000000          0.427958          0.786436  ...   \n",
       "\n",
       "       fBodyBodyGyroJerkMag-skewness()  fBodyBodyGyroJerkMag-kurtosis()  \\\n",
       "count                      2947.000000                      2947.000000   \n",
       "mean                         -0.277593                        -0.598756   \n",
       "std                           0.317245                         0.311042   \n",
       "min                          -1.000000                        -1.000000   \n",
       "25%                          -0.517494                        -0.829593   \n",
       "50%                          -0.311023                        -0.683672   \n",
       "75%                          -0.083559                        -0.458332   \n",
       "max                           1.000000                         1.000000   \n",
       "\n",
       "       angle(tBodyAccMean,gravity)  angle(tBodyAccJerkMean),gravityMean)  \\\n",
       "count                  2947.000000                           2947.000000   \n",
       "mean                      0.005264                              0.003799   \n",
       "std                       0.336147                              0.445077   \n",
       "min                      -1.000000                             -0.993402   \n",
       "25%                      -0.130541                             -0.282600   \n",
       "50%                       0.005188                              0.006767   \n",
       "75%                       0.146200                              0.288113   \n",
       "max                       0.998898                              0.986347   \n",
       "\n",
       "       angle(tBodyGyroMean,gravityMean)  angle(tBodyGyroJerkMean,gravityMean)  \\\n",
       "count                       2947.000000                           2947.000000   \n",
       "mean                           0.040029                             -0.017298   \n",
       "std                            0.634989                              0.501311   \n",
       "min                           -0.998898                             -0.991096   \n",
       "25%                           -0.518924                             -0.428375   \n",
       "50%                            0.047113                             -0.026726   \n",
       "75%                            0.622151                              0.394387   \n",
       "max                            1.000000                              1.000000   \n",
       "\n",
       "       angle(X,gravityMean)  angle(Y,gravityMean)  angle(Z,gravityMean)  \\\n",
       "count           2947.000000           2947.000000           2947.000000   \n",
       "mean              -0.513923              0.074886             -0.048720   \n",
       "std                0.509205              0.324300              0.241467   \n",
       "min               -0.984195             -0.913704             -0.949228   \n",
       "25%               -0.829722              0.022140             -0.098485   \n",
       "50%               -0.729648              0.181563             -0.010671   \n",
       "75%               -0.545939              0.260252              0.092373   \n",
       "max                0.833180              1.000000              0.973113   \n",
       "\n",
       "           subject  \n",
       "count  2947.000000  \n",
       "mean     12.986427  \n",
       "std       6.950984  \n",
       "min       2.000000  \n",
       "25%       9.000000  \n",
       "50%      12.000000  \n",
       "75%      18.000000  \n",
       "max      24.000000  \n",
       "\n",
       "[8 rows x 562 columns]"
      ]
     },
     "execution_count": 6,
     "metadata": {},
     "output_type": "execute_result"
    }
   ],
   "source": [
    "test_data.describe()"
   ]
  },
  {
   "cell_type": "code",
   "execution_count": 7,
   "metadata": {
    "execution": {
     "iopub.execute_input": "2020-09-18T21:01:30.992844Z",
     "iopub.status.busy": "2020-09-18T21:01:30.990885Z",
     "iopub.status.idle": "2020-09-18T21:01:31.010448Z",
     "shell.execute_reply": "2020-09-18T21:01:31.009462Z"
    },
    "papermill": {
     "duration": 0.054917,
     "end_time": "2020-09-18T21:01:31.010602",
     "exception": false,
     "start_time": "2020-09-18T21:01:30.955685",
     "status": "completed"
    },
    "tags": []
   },
   "outputs": [
    {
     "name": "stdout",
     "output_type": "stream",
     "text": [
      "Training Data: (7352, 563)\n",
      "Any Null Values In the Training Data: False\n",
      "Test Data: (2947, 563)\n",
      "Any Null Values In the Test Data: False\n"
     ]
    }
   ],
   "source": [
    "print(\"Training Data: {}\".format(training_data.shape))\n",
    "print(\"Any Null Values In the Training Data: {}\".format(training_data.isnull().values.any()))\n",
    "\n",
    "print(\"Test Data: {}\".format(test_data.shape))\n",
    "print(\"Any Null Values In the Test Data: {}\".format(test_data.isnull().values.any()))"
   ]
  },
  {
   "cell_type": "code",
   "execution_count": 8,
   "metadata": {
    "execution": {
     "iopub.execute_input": "2020-09-18T21:01:31.091651Z",
     "iopub.status.busy": "2020-09-18T21:01:31.084534Z",
     "iopub.status.idle": "2020-09-18T21:01:31.095714Z",
     "shell.execute_reply": "2020-09-18T21:01:31.096428Z"
    },
    "papermill": {
     "duration": 0.057084,
     "end_time": "2020-09-18T21:01:31.096608",
     "exception": false,
     "start_time": "2020-09-18T21:01:31.039524",
     "status": "completed"
    },
    "tags": []
   },
   "outputs": [],
   "source": [
    "X_train=training_data.iloc[:,:-2]\n",
    "y_train=training_data.iloc[:,-1]\n",
    "\n",
    "X_test=test_data.iloc[:,:-2]\n",
    "y_test=test_data.iloc[:,-1]"
   ]
  },
  {
   "cell_type": "code",
   "execution_count": 9,
   "metadata": {
    "execution": {
     "iopub.execute_input": "2020-09-18T21:01:31.167651Z",
     "iopub.status.busy": "2020-09-18T21:01:31.166737Z",
     "iopub.status.idle": "2020-09-18T21:01:31.299675Z",
     "shell.execute_reply": "2020-09-18T21:01:31.298751Z"
    },
    "papermill": {
     "duration": 0.173835,
     "end_time": "2020-09-18T21:01:31.299854",
     "exception": false,
     "start_time": "2020-09-18T21:01:31.126019",
     "status": "completed"
    },
    "tags": []
   },
   "outputs": [
    {
     "data": {
      "image/png": "[encoded data removed]",
      "text/plain": [
       "<Figure size 1080x360 with 1 Axes>"
      ]
     },
     "metadata": {},
     "output_type": "display_data"
    }
   ],
   "source": [
    "Category_count=np.array(y_train.value_counts())\n",
    "activity=sorted(y_train.unique())\n",
    "plt.figure(figsize=(15,5))\n",
    "plt.pie(Category_count,labels=activity);"
   ]
  },
  {
   "cell_type": "code",
   "execution_count": 10,
   "metadata": {
    "execution": {
     "iopub.execute_input": "2020-09-18T21:01:31.380451Z",
     "iopub.status.busy": "2020-09-18T21:01:31.379242Z",
     "iopub.status.idle": "2020-09-18T21:01:31.383648Z",
     "shell.execute_reply": "2020-09-18T21:01:31.382822Z"
    },
    "papermill": {
     "duration": 0.048278,
     "end_time": "2020-09-18T21:01:31.383804",
     "exception": false,
     "start_time": "2020-09-18T21:01:31.335526",
     "status": "completed"
    },
    "tags": []
   },
   "outputs": [],
   "source": [
    "acc=0\n",
    "gyro=0\n",
    "others=0\n",
    "for column in training_data.columns:\n",
    "    if \"Acc\" in str(column):\n",
    "        acc+=1\n",
    "    elif \"Gyro\" in str(column):\n",
    "        gyro+=1\n",
    "    else:\n",
    "        others+=1\n",
    "        "
   ]
  },
  {
   "cell_type": "code",
   "execution_count": 11,
   "metadata": {
    "execution": {
     "iopub.execute_input": "2020-09-18T21:01:31.452915Z",
     "iopub.status.busy": "2020-09-18T21:01:31.451762Z",
     "iopub.status.idle": "2020-09-18T21:01:31.456640Z",
     "shell.execute_reply": "2020-09-18T21:01:31.455789Z"
    },
    "papermill": {
     "duration": 0.04306,
     "end_time": "2020-09-18T21:01:31.456793",
     "exception": false,
     "start_time": "2020-09-18T21:01:31.413733",
     "status": "completed"
    },
    "tags": []
   },
   "outputs": [
    {
     "name": "stdout",
     "output_type": "stream",
     "text": [
      "345 213 5\n"
     ]
    }
   ],
   "source": [
    "print(acc,gyro,others)"
   ]
  },
  {
   "cell_type": "code",
   "execution_count": 12,
   "metadata": {
    "execution": {
     "iopub.execute_input": "2020-09-18T21:01:31.535379Z",
     "iopub.status.busy": "2020-09-18T21:01:31.534134Z",
     "iopub.status.idle": "2020-09-18T21:01:31.688817Z",
     "shell.execute_reply": "2020-09-18T21:01:31.688014Z"
    },
    "papermill": {
     "duration": 0.2,
     "end_time": "2020-09-18T21:01:31.688954",
     "exception": false,
     "start_time": "2020-09-18T21:01:31.488954",
     "status": "completed"
    },
    "tags": []
   },
   "outputs": [
    {
     "data": {
      "image/png": "[encoded data removed]",
      "text/plain": [
       "<Figure size 864x576 with 1 Axes>"
      ]
     },
     "metadata": {
      "needs_background": "light"
     },
     "output_type": "display_data"
    }
   ],
   "source": [
    "plt.figure(figsize=(12,8))\n",
    "plt.bar(['Accelerometer','Gyrometer','Others'],[acc,gyro,others],color=['r','g','y']);"
   ]
  },
  {
   "cell_type": "code",
   "execution_count": 13,
   "metadata": {
    "execution": {
     "iopub.execute_input": "2020-09-18T21:01:31.761658Z",
     "iopub.status.busy": "2020-09-18T21:01:31.760535Z",
     "iopub.status.idle": "2020-09-18T21:01:31.973623Z",
     "shell.execute_reply": "2020-09-18T21:01:31.974413Z"
    },
    "papermill": {
     "duration": 0.25345,
     "end_time": "2020-09-18T21:01:31.974595",
     "exception": false,
     "start_time": "2020-09-18T21:01:31.721145",
     "status": "completed"
    },
    "tags": []
   },
   "outputs": [],
   "source": [
    "from sklearn.preprocessing import StandardScaler\n",
    "sc=StandardScaler()\n",
    "X_train=sc.fit_transform(X_train)\n",
    "X_test=sc.transform(X_test)"
   ]
  },
  {
   "cell_type": "code",
   "execution_count": 14,
   "metadata": {
    "execution": {
     "iopub.execute_input": "2020-09-18T21:01:32.056612Z",
     "iopub.status.busy": "2020-09-18T21:01:32.053111Z",
     "iopub.status.idle": "2020-09-18T21:01:32.060985Z",
     "shell.execute_reply": "2020-09-18T21:01:32.060140Z"
    },
    "papermill": {
     "duration": 0.05101,
     "end_time": "2020-09-18T21:01:32.061116",
     "exception": false,
     "start_time": "2020-09-18T21:01:32.010106",
     "status": "completed"
    },
    "tags": []
   },
   "outputs": [],
   "source": [
    "from sklearn.preprocessing import LabelEncoder\n",
    "encoder=LabelEncoder()\n",
    "y_train=encoder.fit_transform(y_train)\n",
    "y_train=pd.get_dummies(y_train).values\n",
    "y_test=encoder.fit_transform(y_test)\n",
    "y_test=pd.get_dummies(y_test).values"
   ]
  },
  {
   "cell_type": "code",
   "execution_count": 15,
   "metadata": {
    "execution": {
     "iopub.execute_input": "2020-09-18T21:01:32.134134Z",
     "iopub.status.busy": "2020-09-18T21:01:32.133186Z",
     "iopub.status.idle": "2020-09-18T21:01:32.139095Z",
     "shell.execute_reply": "2020-09-18T21:01:32.138394Z"
    },
    "papermill": {
     "duration": 0.045269,
     "end_time": "2020-09-18T21:01:32.139268",
     "exception": false,
     "start_time": "2020-09-18T21:01:32.093999",
     "status": "completed"
    },
    "tags": []
   },
   "outputs": [
    {
     "data": {
      "text/plain": [
       "array([[0, 0, 1, 0, 0, 0],\n",
       "       [0, 0, 1, 0, 0, 0],\n",
       "       [0, 0, 1, 0, 0, 0],\n",
       "       ...,\n",
       "       [0, 0, 0, 0, 0, 1],\n",
       "       [0, 0, 0, 0, 0, 1],\n",
       "       [0, 0, 0, 0, 0, 1]], dtype=uint8)"
      ]
     },
     "execution_count": 15,
     "metadata": {},
     "output_type": "execute_result"
    }
   ],
   "source": [
    "y_train"
   ]
  },
  {
   "cell_type": "code",
   "execution_count": 16,
   "metadata": {
    "execution": {
     "iopub.execute_input": "2020-09-18T21:01:32.212731Z",
     "iopub.status.busy": "2020-09-18T21:01:32.211734Z",
     "iopub.status.idle": "2020-09-18T21:01:33.102496Z",
     "shell.execute_reply": "2020-09-18T21:01:33.103096Z"
    },
    "papermill": {
     "duration": 0.930514,
     "end_time": "2020-09-18T21:01:33.103324",
     "exception": false,
     "start_time": "2020-09-18T21:01:32.172810",
     "status": "completed"
    },
    "tags": []
   },
   "outputs": [],
   "source": [
    "from sklearn.decomposition import PCA\n",
    "pca=PCA(n_components=None)\n",
    "X_train=pca.fit_transform(X_train)\n",
    "X_test=pca.transform(X_test)\n",
    "explained_variance=pca.explained_variance_ratio_"
   ]
  },
  {
   "cell_type": "code",
   "execution_count": 17,
   "metadata": {
    "execution": {
     "iopub.execute_input": "2020-09-18T21:01:33.205789Z",
     "iopub.status.busy": "2020-09-18T21:01:33.204857Z",
     "iopub.status.idle": "2020-09-18T21:01:33.211882Z",
     "shell.execute_reply": "2020-09-18T21:01:33.211095Z"
    },
    "papermill": {
     "duration": 0.067911,
     "end_time": "2020-09-18T21:01:33.212047",
     "exception": false,
     "start_time": "2020-09-18T21:01:33.144136",
     "status": "completed"
    },
    "tags": []
   },
   "outputs": [
    {
     "data": {
      "text/plain": [
       "array([5.07811723e-01, 6.58068027e-02, 2.80643677e-02, 2.50395275e-02,\n",
       "       1.88828501e-02, 1.72400642e-02, 1.37101147e-02, 1.19907768e-02,\n",
       "       9.95859511e-03, 9.65086590e-03, 8.60051649e-03, 8.00280950e-03,\n",
       "       7.63996369e-03, 6.45328924e-03, 6.32324346e-03, 5.99722090e-03,\n",
       "       5.86750302e-03, 5.75407392e-03, 5.67921047e-03, 5.27295779e-03,\n",
       "       5.00362925e-03, 4.88408406e-03, 4.78205784e-03, 4.68562930e-03,\n",
       "       4.49289260e-03, 4.21027243e-03, 4.17978682e-03, 4.05570369e-03,\n",
       "       3.88524168e-03, 3.87018044e-03, 3.65958878e-03, 3.54553381e-03,\n",
       "       3.47942606e-03, 3.37187109e-03, 3.29676999e-03, 3.28215050e-03,\n",
       "       3.20529478e-03, 2.95614939e-03, 2.86722415e-03, 2.85074548e-03,\n",
       "       2.68766324e-03, 2.65619859e-03, 2.63405989e-03, 2.58850596e-03,\n",
       "       2.49054872e-03, 2.46954034e-03, 2.40679913e-03, 2.36115075e-03,\n",
       "       2.30278857e-03, 2.27567245e-03, 2.20164699e-03, 2.13466984e-03,\n",
       "       2.07704456e-03, 2.02496620e-03, 1.99779441e-03, 1.97750625e-03,\n",
       "       1.94273627e-03, 1.90237160e-03, 1.88064891e-03, 1.86215970e-03,\n",
       "       1.81466544e-03, 1.77380987e-03, 1.76085074e-03, 1.73283909e-03,\n",
       "       1.70738317e-03, 1.68548073e-03, 1.65614929e-03, 1.63102448e-03,\n",
       "       1.58436782e-03, 1.57497542e-03, 1.53022902e-03, 1.52205247e-03,\n",
       "       1.48139151e-03, 1.46071476e-03, 1.44670526e-03, 1.42753738e-03,\n",
       "       1.38656539e-03, 1.35591695e-03, 1.34705548e-03, 1.33078158e-03,\n",
       "       1.30815550e-03, 1.30240739e-03, 1.28229864e-03, 1.24994798e-03,\n",
       "       1.22974483e-03, 1.21552960e-03, 1.19170472e-03, 1.17436497e-03,\n",
       "       1.15283702e-03, 1.13147455e-03, 1.10592054e-03, 1.09326676e-03,\n",
       "       1.07921823e-03, 1.05983611e-03, 1.02711779e-03, 1.02086442e-03,\n",
       "       1.00722080e-03, 9.84274129e-04, 9.64768328e-04, 9.38411210e-04,\n",
       "       9.23386748e-04, 9.17395339e-04, 8.98893380e-04, 8.94995590e-04,\n",
       "       8.75176393e-04, 8.70466802e-04, 8.58500025e-04, 8.34789074e-04,\n",
       "       8.27557558e-04, 8.26355241e-04, 8.11534976e-04, 7.98272745e-04,\n",
       "       7.72818789e-04, 7.58213801e-04, 7.50513383e-04, 7.28136300e-04,\n",
       "       7.18148372e-04, 7.09966903e-04, 6.97854018e-04, 6.78705081e-04,\n",
       "       6.64375012e-04, 6.50269657e-04, 6.39855199e-04, 6.30796301e-04,\n",
       "       6.21437731e-04, 6.15389578e-04, 6.02431674e-04, 5.96996321e-04,\n",
       "       5.82891574e-04, 5.75654343e-04, 5.64485244e-04, 5.57471583e-04,\n",
       "       5.45618542e-04, 5.39341176e-04, 5.29318324e-04, 5.25714158e-04,\n",
       "       5.15133326e-04, 5.05175113e-04, 5.02220396e-04, 4.88906240e-04,\n",
       "       4.84919846e-04, 4.74685040e-04, 4.69585258e-04, 4.61118783e-04,\n",
       "       4.60303801e-04, 4.50249601e-04, 4.42694120e-04, 4.37648533e-04,\n",
       "       4.29693762e-04, 4.22632660e-04, 4.16209744e-04, 4.09031341e-04,\n",
       "       4.07198954e-04, 3.98152708e-04, 3.87819397e-04, 3.85706947e-04,\n",
       "       3.79896552e-04, 3.68934940e-04, 3.62786914e-04, 3.54410253e-04,\n",
       "       3.47723424e-04, 3.46879694e-04, 3.35116336e-04, 3.32705631e-04,\n",
       "       3.26087499e-04, 3.15121893e-04, 3.02513246e-04, 2.88157589e-04,\n",
       "       2.73460298e-04, 2.67374190e-04, 2.59346227e-04, 2.53948264e-04,\n",
       "       2.46786301e-04, 2.41381782e-04, 2.38940673e-04, 2.28360155e-04,\n",
       "       2.25853592e-04, 2.24241681e-04, 2.14799624e-04, 2.08470907e-04,\n",
       "       2.04918069e-04, 1.98169379e-04, 1.96786294e-04, 1.88640947e-04,\n",
       "       1.82513335e-04, 1.80149866e-04, 1.74943506e-04, 1.71658778e-04,\n",
       "       1.67942227e-04, 1.64189168e-04, 1.56091218e-04, 1.55297886e-04,\n",
       "       1.48624880e-04, 1.46546181e-04, 1.43583547e-04, 1.38617453e-04,\n",
       "       1.36686865e-04, 1.31551749e-04, 1.24661068e-04, 1.23390418e-04,\n",
       "       1.20877808e-04, 1.18619996e-04, 1.15197016e-04, 1.11405824e-04,\n",
       "       1.08403383e-04, 1.05223256e-04, 1.03123893e-04, 9.92588958e-05,\n",
       "       9.88228438e-05, 9.69455693e-05, 9.52823210e-05, 9.29974440e-05,\n",
       "       9.09989820e-05, 9.02663923e-05, 8.94427789e-05, 8.86210791e-05,\n",
       "       8.77445408e-05, 8.50704689e-05, 8.21190530e-05, 8.18181796e-05,\n",
       "       8.06130196e-05, 7.94607761e-05, 7.82510991e-05, 7.63689785e-05,\n",
       "       7.51544933e-05, 7.40207555e-05, 7.18409342e-05, 7.10465615e-05,\n",
       "       7.02033879e-05, 6.89494913e-05, 6.80655085e-05, 6.66664300e-05,\n",
       "       6.51964162e-05, 6.48294423e-05, 6.25299230e-05, 6.17140063e-05,\n",
       "       6.09121494e-05, 5.95702112e-05, 5.94037377e-05, 5.85889363e-05,\n",
       "       5.76238866e-05, 5.70355479e-05, 5.61242824e-05, 5.45682738e-05,\n",
       "       5.32075077e-05, 5.30465083e-05, 5.16647520e-05, 5.13750513e-05,\n",
       "       4.99369873e-05, 4.86742430e-05, 4.79054318e-05, 4.71302992e-05,\n",
       "       4.62447979e-05, 4.52463762e-05, 4.41717910e-05, 4.31265005e-05,\n",
       "       4.25229326e-05, 4.20687559e-05, 4.05894218e-05, 4.04843640e-05,\n",
       "       3.99552560e-05, 3.87900310e-05, 3.85995471e-05, 3.80015416e-05,\n",
       "       3.75668437e-05, 3.63161160e-05, 3.56151852e-05, 3.49489273e-05,\n",
       "       3.46557562e-05, 3.35310985e-05, 3.30853549e-05, 3.25462528e-05,\n",
       "       3.21472588e-05, 3.17508450e-05, 3.10102254e-05, 3.04362348e-05,\n",
       "       2.93713307e-05, 2.92026712e-05, 2.88083627e-05, 2.79630436e-05,\n",
       "       2.79183138e-05, 2.76236237e-05, 2.68229223e-05, 2.62488507e-05,\n",
       "       2.59824139e-05, 2.57280496e-05, 2.51909164e-05, 2.46715706e-05,\n",
       "       2.43059206e-05, 2.41169941e-05, 2.38997283e-05, 2.30023015e-05,\n",
       "       2.29245564e-05, 2.25931186e-05, 2.24081881e-05, 2.18782455e-05,\n",
       "       2.15489086e-05, 2.15232796e-05, 2.08601439e-05, 2.07249264e-05,\n",
       "       2.01958696e-05, 1.96945960e-05, 1.95452722e-05, 1.93284986e-05,\n",
       "       1.89562436e-05, 1.86931625e-05, 1.85588477e-05, 1.82242774e-05,\n",
       "       1.80039789e-05, 1.76397623e-05, 1.72440721e-05, 1.70314181e-05,\n",
       "       1.64016994e-05, 1.63435936e-05, 1.60678606e-05, 1.58552449e-05,\n",
       "       1.58010966e-05, 1.54615655e-05, 1.52278135e-05, 1.51563314e-05,\n",
       "       1.48092237e-05, 1.46953487e-05, 1.42420454e-05, 1.42144064e-05,\n",
       "       1.36619284e-05, 1.33798700e-05, 1.30659872e-05, 1.29558943e-05,\n",
       "       1.25900181e-05, 1.23464212e-05, 1.21982128e-05, 1.18778128e-05,\n",
       "       1.15557944e-05, 1.13628988e-05, 1.10719577e-05, 1.09822315e-05,\n",
       "       1.05666034e-05, 1.04422367e-05, 1.02480568e-05, 9.82805368e-06,\n",
       "       9.69092549e-06, 9.53627675e-06, 9.31336629e-06, 9.04589770e-06,\n",
       "       8.75117177e-06, 8.38200492e-06, 8.18681681e-06, 8.15081335e-06,\n",
       "       7.87885163e-06, 7.65430430e-06, 7.50252471e-06, 7.17399929e-06,\n",
       "       6.91564293e-06, 6.73227208e-06, 6.56161178e-06, 6.52174138e-06,\n",
       "       6.21692271e-06, 6.02829911e-06, 5.95882675e-06, 5.81943313e-06,\n",
       "       5.46080815e-06, 5.34404091e-06, 5.32498828e-06, 5.05723893e-06,\n",
       "       5.01036642e-06, 4.72015529e-06, 4.64502736e-06, 4.49348997e-06,\n",
       "       4.37281993e-06, 4.13485798e-06, 4.10642526e-06, 4.00889186e-06,\n",
       "       3.93487802e-06, 3.83746982e-06, 3.74779938e-06, 3.61352061e-06,\n",
       "       3.50801719e-06, 3.47872092e-06, 3.28233620e-06, 3.15085651e-06,\n",
       "       3.08065556e-06, 2.97070882e-06, 2.69378376e-06, 2.60914876e-06,\n",
       "       2.57978556e-06, 2.51491779e-06, 2.29127111e-06, 2.21911987e-06,\n",
       "       2.13682769e-06, 2.06123188e-06, 2.04878243e-06, 2.00866015e-06,\n",
       "       1.94607344e-06, 1.87380562e-06, 1.64088158e-06, 1.58105832e-06,\n",
       "       1.52027815e-06, 1.46509503e-06, 1.35798259e-06, 1.32109360e-06,\n",
       "       1.30549314e-06, 1.24436515e-06, 1.17700506e-06, 1.12820607e-06,\n",
       "       1.07694883e-06, 1.01257449e-06, 9.66671981e-07, 9.26166884e-07,\n",
       "       8.95073667e-07, 8.64892827e-07, 8.16942676e-07, 7.83851669e-07,\n",
       "       7.51111834e-07, 7.23640630e-07, 7.09784805e-07, 6.82083730e-07,\n",
       "       6.74328151e-07, 6.39801988e-07, 6.18445445e-07, 5.98594531e-07,\n",
       "       5.80967584e-07, 5.65441587e-07, 5.41352962e-07, 5.25957596e-07,\n",
       "       4.88288359e-07, 4.80361420e-07, 4.63931067e-07, 4.25119338e-07,\n",
       "       4.10076367e-07, 3.85009426e-07, 3.69754012e-07, 3.59867712e-07,\n",
       "       3.56664245e-07, 3.49621265e-07, 3.09570879e-07, 2.98237486e-07,\n",
       "       2.73805438e-07, 2.64106544e-07, 2.57003377e-07, 2.28527719e-07,\n",
       "       2.06938131e-07, 2.02960791e-07, 1.45318804e-07, 7.17597916e-08,\n",
       "       4.58553418e-08, 4.11180794e-08, 3.48109205e-08, 3.36982085e-08,\n",
       "       2.71295443e-08, 2.64190551e-08, 2.26469504e-08, 2.15367162e-08,\n",
       "       2.04918619e-08, 1.73888902e-08, 1.64903860e-08, 1.15757009e-08,\n",
       "       1.13994859e-08, 1.01919403e-08, 9.22868025e-09, 7.24687376e-09,\n",
       "       6.71738896e-09, 6.01631216e-09, 5.52037578e-09, 4.13158921e-09,\n",
       "       2.41778928e-10, 1.44927754e-10, 1.02644878e-10, 3.71716952e-12,\n",
       "       1.07963161e-12, 2.79609647e-13, 3.05919265e-18, 2.85305833e-18,\n",
       "       2.61777085e-18, 2.19589314e-18, 1.85000601e-18, 1.79946560e-18,\n",
       "       1.70964629e-18, 1.68477125e-18, 1.63807016e-18, 1.52806800e-18,\n",
       "       1.38547145e-18, 1.24618427e-18, 1.16244945e-18, 1.14116910e-18,\n",
       "       1.12994884e-18, 1.07105811e-18, 1.02183566e-18, 8.82089783e-19,\n",
       "       8.68452914e-19, 8.56499394e-19, 8.14750942e-19, 8.05791102e-19,\n",
       "       7.93815101e-19, 7.65918915e-19, 7.42078119e-19, 7.11946831e-19,\n",
       "       6.84805464e-19, 6.34245466e-19, 6.14131091e-19, 6.00408212e-19,\n",
       "       5.81183053e-19, 5.40129483e-19, 5.01766995e-19, 4.70580991e-19,\n",
       "       4.30603121e-19, 4.18487614e-19, 4.15668310e-19, 3.95407526e-19,\n",
       "       3.85968429e-19, 3.68450581e-19, 3.55946359e-19, 3.52230882e-19,\n",
       "       3.45008139e-19, 3.38621346e-19, 3.32820889e-19, 3.24620530e-19,\n",
       "       3.22984448e-19, 3.07309215e-19, 3.01219931e-19, 2.93706725e-19,\n",
       "       2.88633463e-19, 2.77526208e-19, 2.68853035e-19, 2.60571291e-19,\n",
       "       2.54818638e-19, 2.52455842e-19, 2.44925858e-19, 2.42984429e-19,\n",
       "       2.33758422e-19, 2.26436118e-19, 2.09600185e-19, 1.93310876e-19,\n",
       "       1.90445476e-19, 1.80300373e-19, 1.74557377e-19, 1.45830101e-19,\n",
       "       1.37175292e-19, 9.85387141e-20, 7.23230703e-20, 5.67236992e-20,\n",
       "       3.24903205e-33, 3.24903205e-33, 3.24903205e-33, 3.24903205e-33,\n",
       "       3.24903205e-33, 3.24903205e-33, 3.24903205e-33, 3.24903205e-33,\n",
       "       3.24903205e-33, 3.24903205e-33, 3.24903205e-33, 3.24903205e-33,\n",
       "       3.24903205e-33, 3.24903205e-33, 3.24903205e-33, 3.24903205e-33,\n",
       "       3.24903205e-33, 3.24903205e-33, 3.24903205e-33, 8.62685136e-35,\n",
       "       7.19309034e-36])"
      ]
     },
     "execution_count": 17,
     "metadata": {},
     "output_type": "execute_result"
    }
   ],
   "source": [
    "explained_variance"
   ]
  },
  {
   "cell_type": "code",
   "execution_count": 18,
   "metadata": {
    "execution": {
     "iopub.execute_input": "2020-09-18T21:01:33.306301Z",
     "iopub.status.busy": "2020-09-18T21:01:33.304204Z",
     "iopub.status.idle": "2020-09-18T21:01:42.251990Z",
     "shell.execute_reply": "2020-09-18T21:01:42.250590Z"
    },
    "papermill": {
     "duration": 8.999668,
     "end_time": "2020-09-18T21:01:42.252194",
     "exception": false,
     "start_time": "2020-09-18T21:01:33.252526",
     "status": "completed"
    },
    "tags": []
   },
   "outputs": [],
   "source": [
    "from keras.models import Sequential\n",
    "from keras.layers import Dense,Dropout\n",
    "\n",
    "model=Sequential()\n",
    "model.add(Dense(units=64,kernel_initializer='uniform',activation='relu',input_dim=X_train.shape[1]))\n",
    "\n",
    "model.add(Dense(units=128,kernel_initializer='uniform',activation='relu'))\n",
    "\n",
    "model.add(Dense(units=64,kernel_initializer='uniform',activation='relu'))\n",
    "\n",
    "model.add(Dense(units=6,kernel_initializer='uniform',activation='softmax'))\n"
   ]
  },
  {
   "cell_type": "code",
   "execution_count": 19,
   "metadata": {
    "execution": {
     "iopub.execute_input": "2020-09-18T21:01:42.344074Z",
     "iopub.status.busy": "2020-09-18T21:01:42.343215Z",
     "iopub.status.idle": "2020-09-18T21:01:42.351684Z",
     "shell.execute_reply": "2020-09-18T21:01:42.352420Z"
    },
    "papermill": {
     "duration": 0.062277,
     "end_time": "2020-09-18T21:01:42.352597",
     "exception": false,
     "start_time": "2020-09-18T21:01:42.290320",
     "status": "completed"
    },
    "tags": []
   },
   "outputs": [],
   "source": [
    "model.compile(optimizer='adam',loss='categorical_crossentropy',metrics=['accuracy'])"
   ]
  },
  {
   "cell_type": "code",
   "execution_count": 20,
   "metadata": {
    "execution": {
     "iopub.execute_input": "2020-09-18T21:01:42.427416Z",
     "iopub.status.busy": "2020-09-18T21:01:42.426509Z",
     "iopub.status.idle": "2020-09-18T21:01:46.709527Z",
     "shell.execute_reply": "2020-09-18T21:01:46.708459Z"
    },
    "papermill": {
     "duration": 4.323058,
     "end_time": "2020-09-18T21:01:46.709667",
     "exception": false,
     "start_time": "2020-09-18T21:01:42.386609",
     "status": "completed"
    },
    "tags": []
   },
   "outputs": [
    {
     "name": "stdout",
     "output_type": "stream",
     "text": [
      "Epoch 1/22\n",
      "29/29 [==============================] - 0s 11ms/step - loss: 1.5498 - accuracy: 0.4844 - val_loss: 1.0743 - val_accuracy: 0.5022\n",
      "Epoch 2/22\n",
      "29/29 [==============================] - 0s 5ms/step - loss: 0.6759 - accuracy: 0.7031 - val_loss: 0.4183 - val_accuracy: 0.7944\n",
      "Epoch 3/22\n",
      "29/29 [==============================] - 0s 5ms/step - loss: 0.2264 - accuracy: 0.9192 - val_loss: 0.1927 - val_accuracy: 0.9345\n",
      "Epoch 4/22\n",
      "29/29 [==============================] - 0s 5ms/step - loss: 0.0664 - accuracy: 0.9778 - val_loss: 0.1722 - val_accuracy: 0.9433\n",
      "Epoch 5/22\n",
      "29/29 [==============================] - 0s 4ms/step - loss: 0.0347 - accuracy: 0.9893 - val_loss: 0.1594 - val_accuracy: 0.9508\n",
      "Epoch 6/22\n",
      "29/29 [==============================] - 0s 5ms/step - loss: 0.0260 - accuracy: 0.9913 - val_loss: 0.1448 - val_accuracy: 0.9532\n",
      "Epoch 7/22\n",
      "29/29 [==============================] - 0s 5ms/step - loss: 0.0192 - accuracy: 0.9948 - val_loss: 0.1629 - val_accuracy: 0.9528\n",
      "Epoch 8/22\n",
      "29/29 [==============================] - 0s 5ms/step - loss: 0.0157 - accuracy: 0.9954 - val_loss: 0.1483 - val_accuracy: 0.9545\n",
      "Epoch 9/22\n",
      "29/29 [==============================] - 0s 5ms/step - loss: 0.0117 - accuracy: 0.9971 - val_loss: 0.1744 - val_accuracy: 0.9498\n",
      "Epoch 10/22\n",
      "29/29 [==============================] - 0s 5ms/step - loss: 0.0090 - accuracy: 0.9973 - val_loss: 0.1881 - val_accuracy: 0.9518\n",
      "Epoch 11/22\n",
      "29/29 [==============================] - 0s 5ms/step - loss: 0.0064 - accuracy: 0.9985 - val_loss: 0.1710 - val_accuracy: 0.9528\n",
      "Epoch 12/22\n",
      "29/29 [==============================] - 0s 5ms/step - loss: 0.0050 - accuracy: 0.9992 - val_loss: 0.1762 - val_accuracy: 0.9535\n",
      "Epoch 13/22\n",
      "29/29 [==============================] - 0s 5ms/step - loss: 0.0033 - accuracy: 0.9996 - val_loss: 0.1736 - val_accuracy: 0.9528\n",
      "Epoch 14/22\n",
      "29/29 [==============================] - 0s 5ms/step - loss: 0.0024 - accuracy: 0.9999 - val_loss: 0.1831 - val_accuracy: 0.9542\n",
      "Epoch 15/22\n",
      "29/29 [==============================] - 0s 5ms/step - loss: 0.0016 - accuracy: 1.0000 - val_loss: 0.1889 - val_accuracy: 0.9542\n",
      "Epoch 16/22\n",
      "29/29 [==============================] - 0s 5ms/step - loss: 0.0012 - accuracy: 1.0000 - val_loss: 0.1908 - val_accuracy: 0.9549\n",
      "Epoch 17/22\n",
      "29/29 [==============================] - 0s 5ms/step - loss: 8.7998e-04 - accuracy: 1.0000 - val_loss: 0.1965 - val_accuracy: 0.9539\n",
      "Epoch 18/22\n",
      "29/29 [==============================] - 0s 5ms/step - loss: 6.9536e-04 - accuracy: 1.0000 - val_loss: 0.2109 - val_accuracy: 0.9539\n",
      "Epoch 19/22\n",
      "29/29 [==============================] - 0s 5ms/step - loss: 5.6706e-04 - accuracy: 1.0000 - val_loss: 0.2045 - val_accuracy: 0.9528\n",
      "Epoch 20/22\n",
      "29/29 [==============================] - 0s 5ms/step - loss: 4.6947e-04 - accuracy: 1.0000 - val_loss: 0.2104 - val_accuracy: 0.9535\n",
      "Epoch 21/22\n",
      "29/29 [==============================] - 0s 5ms/step - loss: 4.0675e-04 - accuracy: 1.0000 - val_loss: 0.2157 - val_accuracy: 0.9535\n",
      "Epoch 22/22\n",
      "29/29 [==============================] - 0s 5ms/step - loss: 3.5461e-04 - accuracy: 1.0000 - val_loss: 0.2258 - val_accuracy: 0.9528\n"
     ]
    }
   ],
   "source": [
    "history=model.fit(X_train,y_train,batch_size=256,epochs=22,validation_data=(X_test,y_test))"
   ]
  },
  {
   "cell_type": "code",
   "execution_count": 21,
   "metadata": {
    "execution": {
     "iopub.execute_input": "2020-09-18T21:01:46.841942Z",
     "iopub.status.busy": "2020-09-18T21:01:46.841043Z",
     "iopub.status.idle": "2020-09-18T21:01:47.039464Z",
     "shell.execute_reply": "2020-09-18T21:01:47.038648Z"
    },
    "papermill": {
     "duration": 0.266764,
     "end_time": "2020-09-18T21:01:47.039611",
     "exception": false,
     "start_time": "2020-09-18T21:01:46.772847",
     "status": "completed"
    },
    "tags": []
   },
   "outputs": [
    {
     "data": {
      "image/png": "[encoded data removed]",
      "text/plain": [
       "<Figure size 720x288 with 1 Axes>"
      ]
     },
     "metadata": {
      "needs_background": "light"
     },
     "output_type": "display_data"
    }
   ],
   "source": [
    "from pylab import rcParams\n",
    "rcParams['figure.figsize'] = 10, 4\n",
    "plt.plot(history.history['accuracy'])\n",
    "plt.plot(history.history['val_accuracy'])\n",
    "plt.title('model accuracy')\n",
    "plt.ylabel('accuracy')\n",
    "plt.xlabel('epoch')\n",
    "plt.legend(['train', 'test'], loc='upper left')\n",
    "plt.show()"
   ]
  },
  {
   "cell_type": "code",
   "execution_count": 22,
   "metadata": {
    "execution": {
     "iopub.execute_input": "2020-09-18T21:01:47.172854Z",
     "iopub.status.busy": "2020-09-18T21:01:47.172084Z",
     "iopub.status.idle": "2020-09-18T21:01:47.374434Z",
     "shell.execute_reply": "2020-09-18T21:01:47.373686Z"
    },
    "papermill": {
     "duration": 0.270511,
     "end_time": "2020-09-18T21:01:47.374571",
     "exception": false,
     "start_time": "2020-09-18T21:01:47.104060",
     "status": "completed"
    },
    "tags": []
   },
   "outputs": [],
   "source": [
    "y_pred=model.predict(X_test)"
   ]
  },
  {
   "cell_type": "code",
   "execution_count": 23,
   "metadata": {
    "execution": {
     "iopub.execute_input": "2020-09-18T21:01:47.506688Z",
     "iopub.status.busy": "2020-09-18T21:01:47.505611Z",
     "iopub.status.idle": "2020-09-18T21:01:47.509419Z",
     "shell.execute_reply": "2020-09-18T21:01:47.508663Z"
    },
    "papermill": {
     "duration": 0.072294,
     "end_time": "2020-09-18T21:01:47.509549",
     "exception": false,
     "start_time": "2020-09-18T21:01:47.437255",
     "status": "completed"
    },
    "tags": []
   },
   "outputs": [],
   "source": [
    "y_test_class=np.argmax(y_test,axis=1)\n",
    "y_pred_class=np.argmax(y_pred,axis=1)"
   ]
  },
  {
   "cell_type": "code",
   "execution_count": 24,
   "metadata": {
    "execution": {
     "iopub.execute_input": "2020-09-18T21:01:47.640840Z",
     "iopub.status.busy": "2020-09-18T21:01:47.639721Z",
     "iopub.status.idle": "2020-09-18T21:01:47.644203Z",
     "shell.execute_reply": "2020-09-18T21:01:47.643456Z"
    },
    "papermill": {
     "duration": 0.07219,
     "end_time": "2020-09-18T21:01:47.644336",
     "exception": false,
     "start_time": "2020-09-18T21:01:47.572146",
     "status": "completed"
    },
    "tags": []
   },
   "outputs": [
    {
     "data": {
      "text/plain": [
       "array([2, 2, 2, ..., 5, 5, 5])"
      ]
     },
     "execution_count": 24,
     "metadata": {},
     "output_type": "execute_result"
    }
   ],
   "source": [
    "y_test_class"
   ]
  },
  {
   "cell_type": "code",
   "execution_count": 25,
   "metadata": {
    "execution": {
     "iopub.execute_input": "2020-09-18T21:01:47.777994Z",
     "iopub.status.busy": "2020-09-18T21:01:47.777119Z",
     "iopub.status.idle": "2020-09-18T21:01:47.781060Z",
     "shell.execute_reply": "2020-09-18T21:01:47.781681Z"
    },
    "papermill": {
     "duration": 0.07379,
     "end_time": "2020-09-18T21:01:47.781858",
     "exception": false,
     "start_time": "2020-09-18T21:01:47.708068",
     "status": "completed"
    },
    "tags": []
   },
   "outputs": [
    {
     "data": {
      "text/plain": [
       "array([2, 2, 2, ..., 5, 5, 5])"
      ]
     },
     "execution_count": 25,
     "metadata": {},
     "output_type": "execute_result"
    }
   ],
   "source": [
    "y_pred_class"
   ]
  },
  {
   "cell_type": "code",
   "execution_count": 26,
   "metadata": {
    "execution": {
     "iopub.execute_input": "2020-09-18T21:01:47.919001Z",
     "iopub.status.busy": "2020-09-18T21:01:47.917874Z",
     "iopub.status.idle": "2020-09-18T21:01:47.931313Z",
     "shell.execute_reply": "2020-09-18T21:01:47.931950Z"
    },
    "papermill": {
     "duration": 0.084879,
     "end_time": "2020-09-18T21:01:47.932111",
     "exception": false,
     "start_time": "2020-09-18T21:01:47.847232",
     "status": "completed"
    },
    "tags": []
   },
   "outputs": [],
   "source": [
    "from sklearn.metrics import confusion_matrix,accuracy_score\n",
    "cm=confusion_matrix(y_test_class,y_pred_class)\n",
    "accuracy=accuracy_score(y_test_class,y_pred_class)"
   ]
  },
  {
   "cell_type": "code",
   "execution_count": 27,
   "metadata": {
    "execution": {
     "iopub.execute_input": "2020-09-18T21:01:48.067099Z",
     "iopub.status.busy": "2020-09-18T21:01:48.065964Z",
     "iopub.status.idle": "2020-09-18T21:01:48.070974Z",
     "shell.execute_reply": "2020-09-18T21:01:48.071551Z"
    },
    "papermill": {
     "duration": 0.076799,
     "end_time": "2020-09-18T21:01:48.071744",
     "exception": false,
     "start_time": "2020-09-18T21:01:47.994945",
     "status": "completed"
    },
    "tags": []
   },
   "outputs": [
    {
     "data": {
      "text/plain": [
       "array([[519,   5,  13,   0,   0,   0],\n",
       "       [  0, 433,  57,   0,   0,   1],\n",
       "       [  0,  10, 522,   0,   0,   0],\n",
       "       [  0,   0,   0, 495,   1,   0],\n",
       "       [  0,   0,   0,   7, 396,  17],\n",
       "       [  0,   0,   0,  24,   4, 443]])"
      ]
     },
     "execution_count": 27,
     "metadata": {},
     "output_type": "execute_result"
    }
   ],
   "source": [
    "cm"
   ]
  },
  {
   "cell_type": "code",
   "execution_count": 28,
   "metadata": {
    "execution": {
     "iopub.execute_input": "2020-09-18T21:01:48.210866Z",
     "iopub.status.busy": "2020-09-18T21:01:48.209915Z",
     "iopub.status.idle": "2020-09-18T21:01:48.214640Z",
     "shell.execute_reply": "2020-09-18T21:01:48.213817Z"
    },
    "papermill": {
     "duration": 0.076561,
     "end_time": "2020-09-18T21:01:48.214776",
     "exception": false,
     "start_time": "2020-09-18T21:01:48.138215",
     "status": "completed"
    },
    "tags": []
   },
   "outputs": [
    {
     "data": {
      "text/plain": [
       "0.9528333898880217"
      ]
     },
     "execution_count": 28,
     "metadata": {},
     "output_type": "execute_result"
    }
   ],
   "source": [
    "accuracy"
   ]
  },
  {
   "cell_type": "code",
   "execution_count": null,
   "metadata": {
    "papermill": {
     "duration": 0.066803,
     "end_time": "2020-09-18T21:01:48.347543",
     "exception": false,
     "start_time": "2020-09-18T21:01:48.280740",
     "status": "completed"
    },
    "tags": []
   },
   "outputs": [],
   "source": []
  }
 ],
 "metadata": {
  "kernelspec": {
   "display_name": "Python 3",
   "language": "python",
   "name": "python3"
  },
  "language_info": {
   "codemirror_mode": {
    "name": "ipython",
    "version": 3
   },
   "file_extension": ".py",
   "mimetype": "text/x-python",
   "name": "python",
   "nbconvert_exporter": "python",
   "pygments_lexer": "ipython3",
   "version": "3.7.6"
  },
  "papermill": {
   "duration": 29.331827,
   "end_time": "2020-09-18T21:01:48.526954",
   "environment_variables": {},
   "exception": null,
   "input_path": "__notebook__.ipynb",
   "output_path": "__notebook__.ipynb",
   "parameters": {},
   "start_time": "2020-09-18T21:01:19.195127",
   "version": "2.1.0"
  }
 },
 "nbformat": 4,
 "nbformat_minor": 4
}
