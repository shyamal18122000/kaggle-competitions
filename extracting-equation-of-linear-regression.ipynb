{
 "cells": [
  {
   "cell_type": "markdown",
   "execution_count": null,
   "metadata": {
    "papermill": {
     "duration": 0.011025,
     "end_time": "2020-08-10T16:52:16.685571",
     "exception": false,
     "start_time": "2020-08-10T16:52:16.674546",
     "status": "completed"
    },
    "tags": []
   },
   "source": [
    "## To know the line equation for simple linear regression model and see the error value for prediction value for test data \n",
    "<h2 style=\"color:blue\"><center> Don't forget to upvote📈 if you like👍🏻 it! It's free! "
   ]
  },
  {
   "cell_type": "markdown",
   "execution_count": null,
   "metadata": {
    "papermill": {
     "duration": 0.0104,
     "end_time": "2020-08-10T16:52:16.705267",
     "exception": false,
     "start_time": "2020-08-10T16:52:16.694867",
     "status": "completed"
    },
    "tags": []
   },
   "source": [
    "## Import Necessary Libraries"
   ]
  },
  {
   "cell_type": "code",
   "execution_count": 1,
   "metadata": {
    "execution": {
     "iopub.execute_input": "2020-08-10T16:52:16.730758Z",
     "iopub.status.busy": "2020-08-10T16:52:16.729960Z",
     "iopub.status.idle": "2020-08-10T16:52:18.000573Z",
     "shell.execute_reply": "2020-08-10T16:52:17.999734Z"
    },
    "papermill": {
     "duration": 1.286548,
     "end_time": "2020-08-10T16:52:18.000723",
     "exception": false,
     "start_time": "2020-08-10T16:52:16.714175",
     "status": "completed"
    },
    "tags": []
   },
   "outputs": [],
   "source": [
    "import numpy as np\n",
    "import pandas as pd\n",
    "# import matplotlib.pyplot and seaborn for ploting the graphs\n",
    "import matplotlib.pyplot as plt\n",
    "import seaborn as sns\n",
    "# Import train_test_split for spliting of data into training data and test data\n",
    "from sklearn.model_selection import train_test_split\n",
    "# import LinearRegression for fitting Simple Linear Regression to the Training set\n",
    "from sklearn.linear_model import LinearRegression\n",
    "# Importing metrics for the evaluation of the model\n",
    "from sklearn.metrics import r2_score,mean_squared_error"
   ]
  },
  {
   "cell_type": "markdown",
   "execution_count": null,
   "metadata": {
    "papermill": {
     "duration": 0.008912,
     "end_time": "2020-08-10T16:52:18.019142",
     "exception": false,
     "start_time": "2020-08-10T16:52:18.010230",
     "status": "completed"
    },
    "tags": []
   },
   "source": [
    "## Getting  the data"
   ]
  },
  {
   "cell_type": "code",
   "execution_count": 2,
   "metadata": {
    "execution": {
     "iopub.execute_input": "2020-08-10T16:52:18.045802Z",
     "iopub.status.busy": "2020-08-10T16:52:18.044985Z",
     "iopub.status.idle": "2020-08-10T16:52:18.054967Z",
     "shell.execute_reply": "2020-08-10T16:52:18.054227Z"
    },
    "papermill": {
     "duration": 0.0268,
     "end_time": "2020-08-10T16:52:18.055097",
     "exception": false,
     "start_time": "2020-08-10T16:52:18.028297",
     "status": "completed"
    },
    "tags": []
   },
   "outputs": [],
   "source": [
    "# read the dataset using pandas\n",
    "data = pd.read_csv('../input/salary-data-simple-linear-regression/Salary_Data.csv')"
   ]
  },
  {
   "cell_type": "code",
   "execution_count": 3,
   "metadata": {
    "execution": {
     "iopub.execute_input": "2020-08-10T16:52:18.086499Z",
     "iopub.status.busy": "2020-08-10T16:52:18.085715Z",
     "iopub.status.idle": "2020-08-10T16:52:18.096413Z",
     "shell.execute_reply": "2020-08-10T16:52:18.096966Z"
    },
    "papermill": {
     "duration": 0.032725,
     "end_time": "2020-08-10T16:52:18.097129",
     "exception": false,
     "start_time": "2020-08-10T16:52:18.064404",
     "status": "completed"
    },
    "tags": []
   },
   "outputs": [
    {
     "data": {
      "text/html": [
       "<div>\n",
       "<style scoped>\n",
       "    .dataframe tbody tr th:only-of-type {\n",
       "        vertical-align: middle;\n",
       "    }\n",
       "\n",
       "    .dataframe tbody tr th {\n",
       "        vertical-align: top;\n",
       "    }\n",
       "\n",
       "    .dataframe thead th {\n",
       "        text-align: right;\n",
       "    }\n",
       "</style>\n",
       "<table border=\"1\" class=\"dataframe\">\n",
       "  <thead>\n",
       "    <tr style=\"text-align: right;\">\n",
       "      <th></th>\n",
       "      <th>YearsExperience</th>\n",
       "      <th>Salary</th>\n",
       "    </tr>\n",
       "  </thead>\n",
       "  <tbody>\n",
       "    <tr>\n",
       "      <th>0</th>\n",
       "      <td>1.1</td>\n",
       "      <td>39343.0</td>\n",
       "    </tr>\n",
       "    <tr>\n",
       "      <th>1</th>\n",
       "      <td>1.3</td>\n",
       "      <td>46205.0</td>\n",
       "    </tr>\n",
       "    <tr>\n",
       "      <th>2</th>\n",
       "      <td>1.5</td>\n",
       "      <td>37731.0</td>\n",
       "    </tr>\n",
       "    <tr>\n",
       "      <th>3</th>\n",
       "      <td>2.0</td>\n",
       "      <td>43525.0</td>\n",
       "    </tr>\n",
       "    <tr>\n",
       "      <th>4</th>\n",
       "      <td>2.2</td>\n",
       "      <td>39891.0</td>\n",
       "    </tr>\n",
       "  </tbody>\n",
       "</table>\n",
       "</div>"
      ],
      "text/plain": [
       "   YearsExperience   Salary\n",
       "0              1.1  39343.0\n",
       "1              1.3  46205.0\n",
       "2              1.5  37731.0\n",
       "3              2.0  43525.0\n",
       "4              2.2  39891.0"
      ]
     },
     "execution_count": 3,
     "metadata": {},
     "output_type": "execute_result"
    }
   ],
   "source": [
    "# This displays the top 5 rows of the data\n",
    "data.head()"
   ]
  },
  {
   "cell_type": "code",
   "execution_count": 4,
   "metadata": {
    "execution": {
     "iopub.execute_input": "2020-08-10T16:52:18.129444Z",
     "iopub.status.busy": "2020-08-10T16:52:18.128475Z",
     "iopub.status.idle": "2020-08-10T16:52:18.133339Z",
     "shell.execute_reply": "2020-08-10T16:52:18.132733Z"
    },
    "papermill": {
     "duration": 0.026694,
     "end_time": "2020-08-10T16:52:18.133486",
     "exception": false,
     "start_time": "2020-08-10T16:52:18.106792",
     "status": "completed"
    },
    "tags": []
   },
   "outputs": [
    {
     "name": "stdout",
     "output_type": "stream",
     "text": [
      "<class 'pandas.core.frame.DataFrame'>\n",
      "RangeIndex: 30 entries, 0 to 29\n",
      "Data columns (total 2 columns):\n",
      " #   Column           Non-Null Count  Dtype  \n",
      "---  ------           --------------  -----  \n",
      " 0   YearsExperience  30 non-null     float64\n",
      " 1   Salary           30 non-null     float64\n",
      "dtypes: float64(2)\n",
      "memory usage: 608.0 bytes\n"
     ]
    }
   ],
   "source": [
    "# Provides some information regarding the columns in the data\n",
    "data.info()"
   ]
  },
  {
   "cell_type": "code",
   "execution_count": 5,
   "metadata": {
    "execution": {
     "iopub.execute_input": "2020-08-10T16:52:18.166211Z",
     "iopub.status.busy": "2020-08-10T16:52:18.165488Z",
     "iopub.status.idle": "2020-08-10T16:52:18.183975Z",
     "shell.execute_reply": "2020-08-10T16:52:18.183214Z"
    },
    "papermill": {
     "duration": 0.041022,
     "end_time": "2020-08-10T16:52:18.184104",
     "exception": false,
     "start_time": "2020-08-10T16:52:18.143082",
     "status": "completed"
    },
    "tags": []
   },
   "outputs": [
    {
     "data": {
      "text/html": [
       "<div>\n",
       "<style scoped>\n",
       "    .dataframe tbody tr th:only-of-type {\n",
       "        vertical-align: middle;\n",
       "    }\n",
       "\n",
       "    .dataframe tbody tr th {\n",
       "        vertical-align: top;\n",
       "    }\n",
       "\n",
       "    .dataframe thead th {\n",
       "        text-align: right;\n",
       "    }\n",
       "</style>\n",
       "<table border=\"1\" class=\"dataframe\">\n",
       "  <thead>\n",
       "    <tr style=\"text-align: right;\">\n",
       "      <th></th>\n",
       "      <th>YearsExperience</th>\n",
       "      <th>Salary</th>\n",
       "    </tr>\n",
       "  </thead>\n",
       "  <tbody>\n",
       "    <tr>\n",
       "      <th>count</th>\n",
       "      <td>30.000000</td>\n",
       "      <td>30.000000</td>\n",
       "    </tr>\n",
       "    <tr>\n",
       "      <th>mean</th>\n",
       "      <td>5.313333</td>\n",
       "      <td>76003.000000</td>\n",
       "    </tr>\n",
       "    <tr>\n",
       "      <th>std</th>\n",
       "      <td>2.837888</td>\n",
       "      <td>27414.429785</td>\n",
       "    </tr>\n",
       "    <tr>\n",
       "      <th>min</th>\n",
       "      <td>1.100000</td>\n",
       "      <td>37731.000000</td>\n",
       "    </tr>\n",
       "    <tr>\n",
       "      <th>25%</th>\n",
       "      <td>3.200000</td>\n",
       "      <td>56720.750000</td>\n",
       "    </tr>\n",
       "    <tr>\n",
       "      <th>50%</th>\n",
       "      <td>4.700000</td>\n",
       "      <td>65237.000000</td>\n",
       "    </tr>\n",
       "    <tr>\n",
       "      <th>75%</th>\n",
       "      <td>7.700000</td>\n",
       "      <td>100544.750000</td>\n",
       "    </tr>\n",
       "    <tr>\n",
       "      <th>max</th>\n",
       "      <td>10.500000</td>\n",
       "      <td>122391.000000</td>\n",
       "    </tr>\n",
       "  </tbody>\n",
       "</table>\n",
       "</div>"
      ],
      "text/plain": [
       "       YearsExperience         Salary\n",
       "count        30.000000      30.000000\n",
       "mean          5.313333   76003.000000\n",
       "std           2.837888   27414.429785\n",
       "min           1.100000   37731.000000\n",
       "25%           3.200000   56720.750000\n",
       "50%           4.700000   65237.000000\n",
       "75%           7.700000  100544.750000\n",
       "max          10.500000  122391.000000"
      ]
     },
     "execution_count": 5,
     "metadata": {},
     "output_type": "execute_result"
    }
   ],
   "source": [
    "# this describes the basic stat behind the dataset used \n",
    "data.describe()"
   ]
  },
  {
   "cell_type": "markdown",
   "execution_count": null,
   "metadata": {
    "papermill": {
     "duration": 0.009664,
     "end_time": "2020-08-10T16:52:18.203914",
     "exception": false,
     "start_time": "2020-08-10T16:52:18.194250",
     "status": "completed"
    },
    "tags": []
   },
   "source": [
    "### These Plots help to explain or understand the values and how they are scattered"
   ]
  },
  {
   "cell_type": "code",
   "execution_count": 6,
   "metadata": {
    "execution": {
     "iopub.execute_input": "2020-08-10T16:52:18.230952Z",
     "iopub.status.busy": "2020-08-10T16:52:18.230160Z",
     "iopub.status.idle": "2020-08-10T16:52:18.550690Z",
     "shell.execute_reply": "2020-08-10T16:52:18.551232Z"
    },
    "papermill": {
     "duration": 0.337849,
     "end_time": "2020-08-10T16:52:18.551423",
     "exception": false,
     "start_time": "2020-08-10T16:52:18.213574",
     "status": "completed"
    },
    "tags": []
   },
   "outputs": [
    {
     "name": "stderr",
     "output_type": "stream",
     "text": [
      "/opt/conda/lib/python3.7/site-packages/seaborn/axisgrid.py:2079: UserWarning: The `size` parameter has been renamed to `height`; please update your code.\n",
      "  warnings.warn(msg, UserWarning)\n"
     ]
    },
    {
     "data": {
      "text/plain": [
       "<Figure size 864x432 with 0 Axes>"
      ]
     },
     "metadata": {},
     "output_type": "display_data"
    },
    {
     "data": {
      "image/png": "[encoded data removed]",
      "text/plain": [
       "<Figure size 504x504 with 1 Axes>"
      ]
     },
     "metadata": {
      "needs_background": "light"
     },
     "output_type": "display_data"
    }
   ],
   "source": [
    "plt.figure(figsize=(12,6))\n",
    "sns.pairplot(data,x_vars=['YearsExperience'],y_vars=['Salary'],size=7,kind='scatter')\n",
    "plt.xlabel('YearsExperience')\n",
    "plt.ylabel('Salary')\n",
    "plt.title('Salary Prediction')\n",
    "plt.show()"
   ]
  },
  {
   "cell_type": "code",
   "execution_count": 7,
   "metadata": {
    "execution": {
     "iopub.execute_input": "2020-08-10T16:52:18.580261Z",
     "iopub.status.busy": "2020-08-10T16:52:18.579227Z",
     "iopub.status.idle": "2020-08-10T16:52:18.583342Z",
     "shell.execute_reply": "2020-08-10T16:52:18.582635Z"
    },
    "papermill": {
     "duration": 0.021516,
     "end_time": "2020-08-10T16:52:18.583484",
     "exception": false,
     "start_time": "2020-08-10T16:52:18.561968",
     "status": "completed"
    },
    "tags": []
   },
   "outputs": [
    {
     "data": {
      "text/plain": [
       "0    1.1\n",
       "1    1.3\n",
       "2    1.5\n",
       "3    2.0\n",
       "4    2.2\n",
       "Name: YearsExperience, dtype: float64"
      ]
     },
     "execution_count": 7,
     "metadata": {},
     "output_type": "execute_result"
    }
   ],
   "source": [
    "X = data['YearsExperience']\n",
    "X.head()"
   ]
  },
  {
   "cell_type": "code",
   "execution_count": 8,
   "metadata": {
    "execution": {
     "iopub.execute_input": "2020-08-10T16:52:18.611421Z",
     "iopub.status.busy": "2020-08-10T16:52:18.610601Z",
     "iopub.status.idle": "2020-08-10T16:52:18.615310Z",
     "shell.execute_reply": "2020-08-10T16:52:18.614585Z"
    },
    "papermill": {
     "duration": 0.021696,
     "end_time": "2020-08-10T16:52:18.615451",
     "exception": false,
     "start_time": "2020-08-10T16:52:18.593755",
     "status": "completed"
    },
    "tags": []
   },
   "outputs": [
    {
     "data": {
      "text/plain": [
       "0    39343.0\n",
       "1    46205.0\n",
       "2    37731.0\n",
       "3    43525.0\n",
       "4    39891.0\n",
       "Name: Salary, dtype: float64"
      ]
     },
     "execution_count": 8,
     "metadata": {},
     "output_type": "execute_result"
    }
   ],
   "source": [
    "y = data['Salary']\n",
    "y.head()"
   ]
  },
  {
   "cell_type": "markdown",
   "execution_count": null,
   "metadata": {
    "papermill": {
     "duration": 0.011454,
     "end_time": "2020-08-10T16:52:18.637668",
     "exception": false,
     "start_time": "2020-08-10T16:52:18.626214",
     "status": "completed"
    },
    "tags": []
   },
   "source": [
    "## Split the data for train and test "
   ]
  },
  {
   "cell_type": "code",
   "execution_count": 9,
   "metadata": {
    "execution": {
     "iopub.execute_input": "2020-08-10T16:52:18.667809Z",
     "iopub.status.busy": "2020-08-10T16:52:18.666762Z",
     "iopub.status.idle": "2020-08-10T16:52:18.669832Z",
     "shell.execute_reply": "2020-08-10T16:52:18.670384Z"
    },
    "papermill": {
     "duration": 0.021665,
     "end_time": "2020-08-10T16:52:18.670588",
     "exception": false,
     "start_time": "2020-08-10T16:52:18.648923",
     "status": "completed"
    },
    "tags": []
   },
   "outputs": [],
   "source": [
    "X_train,X_test,y_train,y_test = train_test_split(X,y,train_size=0.7,random_state=100)"
   ]
  },
  {
   "cell_type": "code",
   "execution_count": 10,
   "metadata": {
    "execution": {
     "iopub.execute_input": "2020-08-10T16:52:18.699055Z",
     "iopub.status.busy": "2020-08-10T16:52:18.698203Z",
     "iopub.status.idle": "2020-08-10T16:52:18.701531Z",
     "shell.execute_reply": "2020-08-10T16:52:18.700802Z"
    },
    "papermill": {
     "duration": 0.020131,
     "end_time": "2020-08-10T16:52:18.701655",
     "exception": false,
     "start_time": "2020-08-10T16:52:18.681524",
     "status": "completed"
    },
    "tags": []
   },
   "outputs": [],
   "source": [
    "# Create new axis for x column\n",
    "X_train = X_train[:,np.newaxis]\n",
    "X_test = X_test[:,np.newaxis]"
   ]
  },
  {
   "cell_type": "markdown",
   "execution_count": null,
   "metadata": {
    "papermill": {
     "duration": 0.010344,
     "end_time": "2020-08-10T16:52:18.722765",
     "exception": false,
     "start_time": "2020-08-10T16:52:18.712421",
     "status": "completed"
    },
    "tags": []
   },
   "source": [
    "## Predictive Modeling"
   ]
  },
  {
   "cell_type": "code",
   "execution_count": 11,
   "metadata": {
    "execution": {
     "iopub.execute_input": "2020-08-10T16:52:18.780008Z",
     "iopub.status.busy": "2020-08-10T16:52:18.779181Z",
     "iopub.status.idle": "2020-08-10T16:52:18.787171Z",
     "shell.execute_reply": "2020-08-10T16:52:18.786538Z"
    },
    "papermill": {
     "duration": 0.053513,
     "end_time": "2020-08-10T16:52:18.787307",
     "exception": false,
     "start_time": "2020-08-10T16:52:18.733794",
     "status": "completed"
    },
    "tags": []
   },
   "outputs": [
    {
     "data": {
      "text/plain": [
       "LinearRegression()"
      ]
     },
     "execution_count": 11,
     "metadata": {},
     "output_type": "execute_result"
    }
   ],
   "source": [
    "# Fitting the model\n",
    "lr = LinearRegression()\n",
    "lr.fit(X_train,y_train)"
   ]
  },
  {
   "cell_type": "code",
   "execution_count": 12,
   "metadata": {
    "execution": {
     "iopub.execute_input": "2020-08-10T16:52:18.815327Z",
     "iopub.status.busy": "2020-08-10T16:52:18.814259Z",
     "iopub.status.idle": "2020-08-10T16:52:18.817032Z",
     "shell.execute_reply": "2020-08-10T16:52:18.817587Z"
    },
    "papermill": {
     "duration": 0.019324,
     "end_time": "2020-08-10T16:52:18.817748",
     "exception": false,
     "start_time": "2020-08-10T16:52:18.798424",
     "status": "completed"
    },
    "tags": []
   },
   "outputs": [],
   "source": [
    "# Predicting the Salary for the Test values\n",
    "y_pred = lr.predict(X_test)"
   ]
  },
  {
   "cell_type": "markdown",
   "execution_count": null,
   "metadata": {
    "papermill": {
     "duration": 0.010796,
     "end_time": "2020-08-10T16:52:18.839615",
     "exception": false,
     "start_time": "2020-08-10T16:52:18.828819",
     "status": "completed"
    },
    "tags": []
   },
   "source": [
    "## Visualisation"
   ]
  },
  {
   "cell_type": "markdown",
   "execution_count": null,
   "metadata": {
    "papermill": {
     "duration": 0.010902,
     "end_time": "2020-08-10T16:52:18.861689",
     "exception": false,
     "start_time": "2020-08-10T16:52:18.850787",
     "status": "completed"
    },
    "tags": []
   },
   "source": [
    "### 1. Visualising the Training set results"
   ]
  },
  {
   "cell_type": "code",
   "execution_count": 13,
   "metadata": {
    "execution": {
     "iopub.execute_input": "2020-08-10T16:52:18.896701Z",
     "iopub.status.busy": "2020-08-10T16:52:18.895759Z",
     "iopub.status.idle": "2020-08-10T16:52:19.054791Z",
     "shell.execute_reply": "2020-08-10T16:52:19.055389Z"
    },
    "papermill": {
     "duration": 0.182853,
     "end_time": "2020-08-10T16:52:19.055550",
     "exception": false,
     "start_time": "2020-08-10T16:52:18.872697",
     "status": "completed"
    },
    "tags": []
   },
   "outputs": [
    {
     "data": {
      "image/png": "[encoded data removed]",
      "text/plain": [
       "<Figure size 432x288 with 1 Axes>"
      ]
     },
     "metadata": {
      "needs_background": "light"
     },
     "output_type": "display_data"
    }
   ],
   "source": [
    "plt.scatter(X_train, y_train, color = 'red')\n",
    "plt.plot(X_train, lr.predict(X_train), color = 'blue')\n",
    "plt.title('Salary vs Experience (Training set)')\n",
    "plt.xlabel('Years of Experience')\n",
    "plt.ylabel('Salary')\n",
    "plt.show()"
   ]
  },
  {
   "cell_type": "markdown",
   "execution_count": null,
   "metadata": {
    "papermill": {
     "duration": 0.011036,
     "end_time": "2020-08-10T16:52:19.078342",
     "exception": false,
     "start_time": "2020-08-10T16:52:19.067306",
     "status": "completed"
    },
    "tags": []
   },
   "source": [
    "### 2. Visualising the Test set results"
   ]
  },
  {
   "cell_type": "code",
   "execution_count": 14,
   "metadata": {
    "execution": {
     "iopub.execute_input": "2020-08-10T16:52:19.108839Z",
     "iopub.status.busy": "2020-08-10T16:52:19.108109Z",
     "iopub.status.idle": "2020-08-10T16:52:19.268879Z",
     "shell.execute_reply": "2020-08-10T16:52:19.268071Z"
    },
    "papermill": {
     "duration": 0.179444,
     "end_time": "2020-08-10T16:52:19.269019",
     "exception": false,
     "start_time": "2020-08-10T16:52:19.089575",
     "status": "completed"
    },
    "tags": []
   },
   "outputs": [
    {
     "data": {
      "image/png": "[encoded data removed]",
      "text/plain": [
       "<Figure size 432x288 with 1 Axes>"
      ]
     },
     "metadata": {
      "needs_background": "light"
     },
     "output_type": "display_data"
    }
   ],
   "source": [
    "plt.scatter(X_test, y_test, color = 'red')\n",
    "plt.plot(X_train, lr.predict(X_train), color = 'blue')\n",
    "plt.title('Salary vs Experience (Test set)')\n",
    "plt.xlabel('Years of Experience')\n",
    "plt.ylabel('Salary')\n",
    "plt.show()"
   ]
  },
  {
   "cell_type": "markdown",
   "execution_count": null,
   "metadata": {
    "papermill": {
     "duration": 0.012311,
     "end_time": "2020-08-10T16:52:19.294233",
     "exception": false,
     "start_time": "2020-08-10T16:52:19.281922",
     "status": "completed"
    },
    "tags": []
   },
   "source": [
    "### 3. Plotting the actual and predicted values"
   ]
  },
  {
   "cell_type": "code",
   "execution_count": 15,
   "metadata": {
    "execution": {
     "iopub.execute_input": "2020-08-10T16:52:19.336706Z",
     "iopub.status.busy": "2020-08-10T16:52:19.335581Z",
     "iopub.status.idle": "2020-08-10T16:52:19.516106Z",
     "shell.execute_reply": "2020-08-10T16:52:19.516704Z"
    },
    "papermill": {
     "duration": 0.210254,
     "end_time": "2020-08-10T16:52:19.516882",
     "exception": false,
     "start_time": "2020-08-10T16:52:19.306628",
     "status": "completed"
    },
    "tags": []
   },
   "outputs": [
    {
     "data": {
      "image/png": "[encoded data removed]",
      "text/plain": [
       "<Figure size 432x288 with 1 Axes>"
      ]
     },
     "metadata": {
      "needs_background": "light"
     },
     "output_type": "display_data"
    }
   ],
   "source": [
    "c = [i for i in range (1,len(y_test)+1,1)]\n",
    "plt.plot(c,y_test,color='r',linestyle='-')\n",
    "plt.plot(c,y_pred,color='b',linestyle='-')\n",
    "plt.xlabel('Salary')\n",
    "plt.ylabel('index')\n",
    "plt.title('Prediction')\n",
    "plt.show()"
   ]
  },
  {
   "cell_type": "markdown",
   "execution_count": null,
   "metadata": {
    "papermill": {
     "duration": 0.01214,
     "end_time": "2020-08-10T16:52:19.541852",
     "exception": false,
     "start_time": "2020-08-10T16:52:19.529712",
     "status": "completed"
    },
    "tags": []
   },
   "source": [
    "### 4. Plotting the error"
   ]
  },
  {
   "cell_type": "code",
   "execution_count": 16,
   "metadata": {
    "execution": {
     "iopub.execute_input": "2020-08-10T16:52:19.573973Z",
     "iopub.status.busy": "2020-08-10T16:52:19.573191Z",
     "iopub.status.idle": "2020-08-10T16:52:19.867670Z",
     "shell.execute_reply": "2020-08-10T16:52:19.866881Z"
    },
    "papermill": {
     "duration": 0.313805,
     "end_time": "2020-08-10T16:52:19.867803",
     "exception": false,
     "start_time": "2020-08-10T16:52:19.553998",
     "status": "completed"
    },
    "tags": []
   },
   "outputs": [
    {
     "data": {
      "image/png": "[encoded data removed]",
      "text/plain": [
       "<Figure size 432x288 with 1 Axes>"
      ]
     },
     "metadata": {
      "needs_background": "light"
     },
     "output_type": "display_data"
    }
   ],
   "source": [
    "c = [i for i in range(1,len(y_test)+1,1)]\n",
    "plt.plot(c,y_test-y_pred,color='green',linestyle='-')\n",
    "plt.xlabel('index')\n",
    "plt.ylabel('Error')\n",
    "plt.title('Error Value')\n",
    "plt.show()"
   ]
  },
  {
   "cell_type": "code",
   "execution_count": 17,
   "metadata": {
    "execution": {
     "iopub.execute_input": "2020-08-10T16:52:19.900036Z",
     "iopub.status.busy": "2020-08-10T16:52:19.899297Z",
     "iopub.status.idle": "2020-08-10T16:52:19.903122Z",
     "shell.execute_reply": "2020-08-10T16:52:19.902492Z"
    },
    "papermill": {
     "duration": 0.022001,
     "end_time": "2020-08-10T16:52:19.903247",
     "exception": false,
     "start_time": "2020-08-10T16:52:19.881246",
     "status": "completed"
    },
    "tags": []
   },
   "outputs": [],
   "source": [
    "# calculate Mean square error\n",
    "mse = mean_squared_error(y_test,y_pred)"
   ]
  },
  {
   "cell_type": "code",
   "execution_count": 18,
   "metadata": {
    "execution": {
     "iopub.execute_input": "2020-08-10T16:52:19.935539Z",
     "iopub.status.busy": "2020-08-10T16:52:19.934758Z",
     "iopub.status.idle": "2020-08-10T16:52:19.938377Z",
     "shell.execute_reply": "2020-08-10T16:52:19.937634Z"
    },
    "papermill": {
     "duration": 0.022244,
     "end_time": "2020-08-10T16:52:19.938520",
     "exception": false,
     "start_time": "2020-08-10T16:52:19.916276",
     "status": "completed"
    },
    "tags": []
   },
   "outputs": [],
   "source": [
    "# Calculate R squared value\n",
    "rsq = r2_score(y_test,y_pred)"
   ]
  },
  {
   "cell_type": "code",
   "execution_count": 19,
   "metadata": {
    "execution": {
     "iopub.execute_input": "2020-08-10T16:52:19.971204Z",
     "iopub.status.busy": "2020-08-10T16:52:19.970425Z",
     "iopub.status.idle": "2020-08-10T16:52:19.974811Z",
     "shell.execute_reply": "2020-08-10T16:52:19.974040Z"
    },
    "papermill": {
     "duration": 0.023111,
     "end_time": "2020-08-10T16:52:19.974948",
     "exception": false,
     "start_time": "2020-08-10T16:52:19.951837",
     "status": "completed"
    },
    "tags": []
   },
   "outputs": [
    {
     "name": "stdout",
     "output_type": "stream",
     "text": [
      "mean squared error : 30310299.043402452\n",
      "r squared value : 0.9627668685473267\n"
     ]
    }
   ],
   "source": [
    "print('mean squared error :',mse)\n",
    "print('r squared value :',rsq)"
   ]
  },
  {
   "cell_type": "code",
   "execution_count": 20,
   "metadata": {
    "execution": {
     "iopub.execute_input": "2020-08-10T16:52:20.015577Z",
     "iopub.status.busy": "2020-08-10T16:52:20.013824Z",
     "iopub.status.idle": "2020-08-10T16:52:20.186758Z",
     "shell.execute_reply": "2020-08-10T16:52:20.187317Z"
    },
    "papermill": {
     "duration": 0.199064,
     "end_time": "2020-08-10T16:52:20.187509",
     "exception": false,
     "start_time": "2020-08-10T16:52:19.988445",
     "status": "completed"
    },
    "tags": []
   },
   "outputs": [
    {
     "data": {
      "image/png": "[encoded data removed]",
      "text/plain": [
       "<Figure size 864x432 with 1 Axes>"
      ]
     },
     "metadata": {
      "needs_background": "light"
     },
     "output_type": "display_data"
    }
   ],
   "source": [
    "# Just plot actual and predicted values for more insights\n",
    "plt.figure(figsize=(12,6))\n",
    "plt.scatter(y_test,y_pred,color='r',linestyle='-')\n",
    "plt.show()"
   ]
  },
  {
   "cell_type": "markdown",
   "execution_count": null,
   "metadata": {
    "papermill": {
     "duration": 0.013159,
     "end_time": "2020-08-10T16:52:20.214316",
     "exception": false,
     "start_time": "2020-08-10T16:52:20.201157",
     "status": "completed"
    },
    "tags": []
   },
   "source": [
    "## Find line equation\n",
    "\n",
    "Find slope(m) and intercept(c) of line to find equation of line"
   ]
  },
  {
   "cell_type": "code",
   "execution_count": 21,
   "metadata": {
    "execution": {
     "iopub.execute_input": "2020-08-10T16:52:20.248254Z",
     "iopub.status.busy": "2020-08-10T16:52:20.247315Z",
     "iopub.status.idle": "2020-08-10T16:52:20.251588Z",
     "shell.execute_reply": "2020-08-10T16:52:20.250885Z"
    },
    "papermill": {
     "duration": 0.024244,
     "end_time": "2020-08-10T16:52:20.251722",
     "exception": false,
     "start_time": "2020-08-10T16:52:20.227478",
     "status": "completed"
    },
    "tags": []
   },
   "outputs": [
    {
     "name": "stdout",
     "output_type": "stream",
     "text": [
      "Intercept of the model: 25202.887786154883\n",
      "Coefficient of the line: [9731.20383825]\n"
     ]
    }
   ],
   "source": [
    "# Intecept and coeff of the line\n",
    "c=lr.intercept_\n",
    "m=lr.coef_\n",
    "print('Intercept of the model:',lr.intercept_)\n",
    "print('Coefficient of the line:',lr.coef_)"
   ]
  },
  {
   "cell_type": "code",
   "execution_count": 22,
   "metadata": {
    "execution": {
     "iopub.execute_input": "2020-08-10T16:52:20.285070Z",
     "iopub.status.busy": "2020-08-10T16:52:20.284037Z",
     "iopub.status.idle": "2020-08-10T16:52:20.288117Z",
     "shell.execute_reply": "2020-08-10T16:52:20.287468Z"
    },
    "papermill": {
     "duration": 0.022967,
     "end_time": "2020-08-10T16:52:20.288240",
     "exception": false,
     "start_time": "2020-08-10T16:52:20.265273",
     "status": "completed"
    },
    "tags": []
   },
   "outputs": [
    {
     "name": "stdout",
     "output_type": "stream",
     "text": [
      "y = 9731.203838245376 x+ 25202.887786154883\n"
     ]
    }
   ],
   "source": [
    "# the exact equation of line\n",
    "print(\"y =\",m[0],\"x+\",c)"
   ]
  },
  {
   "cell_type": "markdown",
   "execution_count": null,
   "metadata": {
    "papermill": {
     "duration": 0.0135,
     "end_time": "2020-08-10T16:52:20.315317",
     "exception": false,
     "start_time": "2020-08-10T16:52:20.301817",
     "status": "completed"
    },
    "tags": []
   },
   "source": [
    "The equation of line is\n",
    "## y = 9731.2x + 25202.8878"
   ]
  },
  {
   "cell_type": "code",
   "execution_count": null,
   "metadata": {
    "papermill": {
     "duration": 0.013923,
     "end_time": "2020-08-10T16:52:20.342886",
     "exception": false,
     "start_time": "2020-08-10T16:52:20.328963",
     "status": "completed"
    },
    "tags": []
   },
   "outputs": [],
   "source": []
  }
 ],
 "metadata": {
  "kernelspec": {
   "display_name": "Python 3",
   "language": "python",
   "name": "python3"
  },
  "language_info": {
   "codemirror_mode": {
    "name": "ipython",
    "version": 3
   },
   "file_extension": ".py",
   "mimetype": "text/x-python",
   "name": "python",
   "nbconvert_exporter": "python",
   "pygments_lexer": "ipython3",
   "version": "3.7.6"
  },
  "papermill": {
   "duration": 8.619175,
   "end_time": "2020-08-10T16:52:20.464623",
   "environment_variables": {},
   "exception": null,
   "input_path": "__notebook__.ipynb",
   "output_path": "__notebook__.ipynb",
   "parameters": {},
   "start_time": "2020-08-10T16:52:11.845448",
   "version": "2.1.0"
  }
 },
 "nbformat": 4,
 "nbformat_minor": 4
}
